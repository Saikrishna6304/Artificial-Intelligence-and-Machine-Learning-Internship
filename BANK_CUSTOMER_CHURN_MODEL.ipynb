{
  "nbformat": 4,
  "nbformat_minor": 0,
  "metadata": {
    "colab": {
      "provenance": []
    },
    "kernelspec": {
      "name": "python3",
      "display_name": "Python 3"
    },
    "language_info": {
      "name": "python"
    }
  },
  "cells": [
    {
      "cell_type": "markdown",
      "source": [
        "**Project Done By:**\n",
        "**Gurram sai krishna**\n",
        "```\n",
        "# Language used : Python\n",
        "# Tools used : Pands,numpy,matplotlib\n",
        "\n",
        "\n",
        "```\n",
        "\n",
        "\n",
        "\n"
      ],
      "metadata": {
        "id": "xflQkidANNLS"
      }
    },
    {
      "cell_type": "markdown",
      "source": [
        "**BANK CUSTOMER CHURN MODEL**"
      ],
      "metadata": {
        "id": "fuVcpcxgh5we"
      }
    },
    {
      "cell_type": "markdown",
      "source": [
        "**LEARNING OBJECTIVE**\n",
        "\n",
        "1. Data Encoding\n",
        "2. Feature Scaling\n",
        "3. Handling Imbalanace Data\n",
        "   a.  Random Under Sampling\n",
        "   b.  Random Over Sampling\n",
        "4. Support Vector Machine Classifier\n",
        "5. Grid Search For Hyperparameter Tuning"
      ],
      "metadata": {
        "id": "0umiwErxiL83"
      }
    },
    {
      "cell_type": "markdown",
      "source": [
        "**Import Library**"
      ],
      "metadata": {
        "id": "o1pJjM8IjEFz"
      }
    },
    {
      "cell_type": "code",
      "source": [
        "import pandas as pd"
      ],
      "metadata": {
        "id": "VUdySKjfjTKy"
      },
      "execution_count": null,
      "outputs": []
    },
    {
      "cell_type": "code",
      "source": [
        "import numpy as np"
      ],
      "metadata": {
        "id": "rLA47VbyjaAn"
      },
      "execution_count": null,
      "outputs": []
    },
    {
      "cell_type": "code",
      "source": [
        "import matplotlib.pyplot as plt"
      ],
      "metadata": {
        "id": "_lOZyjgCj0YQ"
      },
      "execution_count": null,
      "outputs": []
    },
    {
      "cell_type": "code",
      "source": [
        "import seaborn as sns"
      ],
      "metadata": {
        "id": "HyA5tZ6cj9PT"
      },
      "execution_count": null,
      "outputs": []
    },
    {
      "cell_type": "code",
      "source": [
        "df = pd.read_csv('https://github.com/YBI-Foundation/Dataset/raw/main/Bank%20Churn%20Modelling.csv')"
      ],
      "metadata": {
        "id": "_Dgme4aEkEDJ"
      },
      "execution_count": null,
      "outputs": []
    },
    {
      "cell_type": "code",
      "source": [
        "df.head()"
      ],
      "metadata": {
        "colab": {
          "base_uri": "https://localhost:8080/",
          "height": 206
        },
        "id": "AUMynlRuk_eY",
        "outputId": "fc985ccd-c6c9-4c19-96c6-aaf176898e4a"
      },
      "execution_count": null,
      "outputs": [
        {
          "output_type": "execute_result",
          "data": {
            "text/plain": [
              "   CustomerId   Surname  CreditScore Geography  Gender  Age  Tenure  \\\n",
              "0    15634602  Hargrave          619    France  Female   42       2   \n",
              "1    15647311      Hill          608     Spain  Female   41       1   \n",
              "2    15619304      Onio          502    France  Female   42       8   \n",
              "3    15701354      Boni          699    France  Female   39       1   \n",
              "4    15737888  Mitchell          850     Spain  Female   43       2   \n",
              "\n",
              "     Balance  Num Of Products  Has Credit Card  Is Active Member  \\\n",
              "0       0.00                1                1                 1   \n",
              "1   83807.86                1                0                 1   \n",
              "2  159660.80                3                1                 0   \n",
              "3       0.00                2                0                 0   \n",
              "4  125510.82                1                1                 1   \n",
              "\n",
              "   Estimated Salary  Churn  \n",
              "0         101348.88      1  \n",
              "1         112542.58      0  \n",
              "2         113931.57      1  \n",
              "3          93826.63      0  \n",
              "4          79084.10      0  "
            ],
            "text/html": [
              "\n",
              "  <div id=\"df-a57938ea-85a7-478d-9138-db4c178c5d3a\" class=\"colab-df-container\">\n",
              "    <div>\n",
              "<style scoped>\n",
              "    .dataframe tbody tr th:only-of-type {\n",
              "        vertical-align: middle;\n",
              "    }\n",
              "\n",
              "    .dataframe tbody tr th {\n",
              "        vertical-align: top;\n",
              "    }\n",
              "\n",
              "    .dataframe thead th {\n",
              "        text-align: right;\n",
              "    }\n",
              "</style>\n",
              "<table border=\"1\" class=\"dataframe\">\n",
              "  <thead>\n",
              "    <tr style=\"text-align: right;\">\n",
              "      <th></th>\n",
              "      <th>CustomerId</th>\n",
              "      <th>Surname</th>\n",
              "      <th>CreditScore</th>\n",
              "      <th>Geography</th>\n",
              "      <th>Gender</th>\n",
              "      <th>Age</th>\n",
              "      <th>Tenure</th>\n",
              "      <th>Balance</th>\n",
              "      <th>Num Of Products</th>\n",
              "      <th>Has Credit Card</th>\n",
              "      <th>Is Active Member</th>\n",
              "      <th>Estimated Salary</th>\n",
              "      <th>Churn</th>\n",
              "    </tr>\n",
              "  </thead>\n",
              "  <tbody>\n",
              "    <tr>\n",
              "      <th>0</th>\n",
              "      <td>15634602</td>\n",
              "      <td>Hargrave</td>\n",
              "      <td>619</td>\n",
              "      <td>France</td>\n",
              "      <td>Female</td>\n",
              "      <td>42</td>\n",
              "      <td>2</td>\n",
              "      <td>0.00</td>\n",
              "      <td>1</td>\n",
              "      <td>1</td>\n",
              "      <td>1</td>\n",
              "      <td>101348.88</td>\n",
              "      <td>1</td>\n",
              "    </tr>\n",
              "    <tr>\n",
              "      <th>1</th>\n",
              "      <td>15647311</td>\n",
              "      <td>Hill</td>\n",
              "      <td>608</td>\n",
              "      <td>Spain</td>\n",
              "      <td>Female</td>\n",
              "      <td>41</td>\n",
              "      <td>1</td>\n",
              "      <td>83807.86</td>\n",
              "      <td>1</td>\n",
              "      <td>0</td>\n",
              "      <td>1</td>\n",
              "      <td>112542.58</td>\n",
              "      <td>0</td>\n",
              "    </tr>\n",
              "    <tr>\n",
              "      <th>2</th>\n",
              "      <td>15619304</td>\n",
              "      <td>Onio</td>\n",
              "      <td>502</td>\n",
              "      <td>France</td>\n",
              "      <td>Female</td>\n",
              "      <td>42</td>\n",
              "      <td>8</td>\n",
              "      <td>159660.80</td>\n",
              "      <td>3</td>\n",
              "      <td>1</td>\n",
              "      <td>0</td>\n",
              "      <td>113931.57</td>\n",
              "      <td>1</td>\n",
              "    </tr>\n",
              "    <tr>\n",
              "      <th>3</th>\n",
              "      <td>15701354</td>\n",
              "      <td>Boni</td>\n",
              "      <td>699</td>\n",
              "      <td>France</td>\n",
              "      <td>Female</td>\n",
              "      <td>39</td>\n",
              "      <td>1</td>\n",
              "      <td>0.00</td>\n",
              "      <td>2</td>\n",
              "      <td>0</td>\n",
              "      <td>0</td>\n",
              "      <td>93826.63</td>\n",
              "      <td>0</td>\n",
              "    </tr>\n",
              "    <tr>\n",
              "      <th>4</th>\n",
              "      <td>15737888</td>\n",
              "      <td>Mitchell</td>\n",
              "      <td>850</td>\n",
              "      <td>Spain</td>\n",
              "      <td>Female</td>\n",
              "      <td>43</td>\n",
              "      <td>2</td>\n",
              "      <td>125510.82</td>\n",
              "      <td>1</td>\n",
              "      <td>1</td>\n",
              "      <td>1</td>\n",
              "      <td>79084.10</td>\n",
              "      <td>0</td>\n",
              "    </tr>\n",
              "  </tbody>\n",
              "</table>\n",
              "</div>\n",
              "    <div class=\"colab-df-buttons\">\n",
              "\n",
              "  <div class=\"colab-df-container\">\n",
              "    <button class=\"colab-df-convert\" onclick=\"convertToInteractive('df-a57938ea-85a7-478d-9138-db4c178c5d3a')\"\n",
              "            title=\"Convert this dataframe to an interactive table.\"\n",
              "            style=\"display:none;\">\n",
              "\n",
              "  <svg xmlns=\"http://www.w3.org/2000/svg\" height=\"24px\" viewBox=\"0 -960 960 960\">\n",
              "    <path d=\"M120-120v-720h720v720H120Zm60-500h600v-160H180v160Zm220 220h160v-160H400v160Zm0 220h160v-160H400v160ZM180-400h160v-160H180v160Zm440 0h160v-160H620v160ZM180-180h160v-160H180v160Zm440 0h160v-160H620v160Z\"/>\n",
              "  </svg>\n",
              "    </button>\n",
              "\n",
              "  <style>\n",
              "    .colab-df-container {\n",
              "      display:flex;\n",
              "      gap: 12px;\n",
              "    }\n",
              "\n",
              "    .colab-df-convert {\n",
              "      background-color: #E8F0FE;\n",
              "      border: none;\n",
              "      border-radius: 50%;\n",
              "      cursor: pointer;\n",
              "      display: none;\n",
              "      fill: #1967D2;\n",
              "      height: 32px;\n",
              "      padding: 0 0 0 0;\n",
              "      width: 32px;\n",
              "    }\n",
              "\n",
              "    .colab-df-convert:hover {\n",
              "      background-color: #E2EBFA;\n",
              "      box-shadow: 0px 1px 2px rgba(60, 64, 67, 0.3), 0px 1px 3px 1px rgba(60, 64, 67, 0.15);\n",
              "      fill: #174EA6;\n",
              "    }\n",
              "\n",
              "    .colab-df-buttons div {\n",
              "      margin-bottom: 4px;\n",
              "    }\n",
              "\n",
              "    [theme=dark] .colab-df-convert {\n",
              "      background-color: #3B4455;\n",
              "      fill: #D2E3FC;\n",
              "    }\n",
              "\n",
              "    [theme=dark] .colab-df-convert:hover {\n",
              "      background-color: #434B5C;\n",
              "      box-shadow: 0px 1px 3px 1px rgba(0, 0, 0, 0.15);\n",
              "      filter: drop-shadow(0px 1px 2px rgba(0, 0, 0, 0.3));\n",
              "      fill: #FFFFFF;\n",
              "    }\n",
              "  </style>\n",
              "\n",
              "    <script>\n",
              "      const buttonEl =\n",
              "        document.querySelector('#df-a57938ea-85a7-478d-9138-db4c178c5d3a button.colab-df-convert');\n",
              "      buttonEl.style.display =\n",
              "        google.colab.kernel.accessAllowed ? 'block' : 'none';\n",
              "\n",
              "      async function convertToInteractive(key) {\n",
              "        const element = document.querySelector('#df-a57938ea-85a7-478d-9138-db4c178c5d3a');\n",
              "        const dataTable =\n",
              "          await google.colab.kernel.invokeFunction('convertToInteractive',\n",
              "                                                    [key], {});\n",
              "        if (!dataTable) return;\n",
              "\n",
              "        const docLinkHtml = 'Like what you see? Visit the ' +\n",
              "          '<a target=\"_blank\" href=https://colab.research.google.com/notebooks/data_table.ipynb>data table notebook</a>'\n",
              "          + ' to learn more about interactive tables.';\n",
              "        element.innerHTML = '';\n",
              "        dataTable['output_type'] = 'display_data';\n",
              "        await google.colab.output.renderOutput(dataTable, element);\n",
              "        const docLink = document.createElement('div');\n",
              "        docLink.innerHTML = docLinkHtml;\n",
              "        element.appendChild(docLink);\n",
              "      }\n",
              "    </script>\n",
              "  </div>\n",
              "\n",
              "\n",
              "<div id=\"df-bbed077d-2daf-4aba-9987-c7e17b6c2418\">\n",
              "  <button class=\"colab-df-quickchart\" onclick=\"quickchart('df-bbed077d-2daf-4aba-9987-c7e17b6c2418')\"\n",
              "            title=\"Suggest charts\"\n",
              "            style=\"display:none;\">\n",
              "\n",
              "<svg xmlns=\"http://www.w3.org/2000/svg\" height=\"24px\"viewBox=\"0 0 24 24\"\n",
              "     width=\"24px\">\n",
              "    <g>\n",
              "        <path d=\"M19 3H5c-1.1 0-2 .9-2 2v14c0 1.1.9 2 2 2h14c1.1 0 2-.9 2-2V5c0-1.1-.9-2-2-2zM9 17H7v-7h2v7zm4 0h-2V7h2v10zm4 0h-2v-4h2v4z\"/>\n",
              "    </g>\n",
              "</svg>\n",
              "  </button>\n",
              "\n",
              "<style>\n",
              "  .colab-df-quickchart {\n",
              "      --bg-color: #E8F0FE;\n",
              "      --fill-color: #1967D2;\n",
              "      --hover-bg-color: #E2EBFA;\n",
              "      --hover-fill-color: #174EA6;\n",
              "      --disabled-fill-color: #AAA;\n",
              "      --disabled-bg-color: #DDD;\n",
              "  }\n",
              "\n",
              "  [theme=dark] .colab-df-quickchart {\n",
              "      --bg-color: #3B4455;\n",
              "      --fill-color: #D2E3FC;\n",
              "      --hover-bg-color: #434B5C;\n",
              "      --hover-fill-color: #FFFFFF;\n",
              "      --disabled-bg-color: #3B4455;\n",
              "      --disabled-fill-color: #666;\n",
              "  }\n",
              "\n",
              "  .colab-df-quickchart {\n",
              "    background-color: var(--bg-color);\n",
              "    border: none;\n",
              "    border-radius: 50%;\n",
              "    cursor: pointer;\n",
              "    display: none;\n",
              "    fill: var(--fill-color);\n",
              "    height: 32px;\n",
              "    padding: 0;\n",
              "    width: 32px;\n",
              "  }\n",
              "\n",
              "  .colab-df-quickchart:hover {\n",
              "    background-color: var(--hover-bg-color);\n",
              "    box-shadow: 0 1px 2px rgba(60, 64, 67, 0.3), 0 1px 3px 1px rgba(60, 64, 67, 0.15);\n",
              "    fill: var(--button-hover-fill-color);\n",
              "  }\n",
              "\n",
              "  .colab-df-quickchart-complete:disabled,\n",
              "  .colab-df-quickchart-complete:disabled:hover {\n",
              "    background-color: var(--disabled-bg-color);\n",
              "    fill: var(--disabled-fill-color);\n",
              "    box-shadow: none;\n",
              "  }\n",
              "\n",
              "  .colab-df-spinner {\n",
              "    border: 2px solid var(--fill-color);\n",
              "    border-color: transparent;\n",
              "    border-bottom-color: var(--fill-color);\n",
              "    animation:\n",
              "      spin 1s steps(1) infinite;\n",
              "  }\n",
              "\n",
              "  @keyframes spin {\n",
              "    0% {\n",
              "      border-color: transparent;\n",
              "      border-bottom-color: var(--fill-color);\n",
              "      border-left-color: var(--fill-color);\n",
              "    }\n",
              "    20% {\n",
              "      border-color: transparent;\n",
              "      border-left-color: var(--fill-color);\n",
              "      border-top-color: var(--fill-color);\n",
              "    }\n",
              "    30% {\n",
              "      border-color: transparent;\n",
              "      border-left-color: var(--fill-color);\n",
              "      border-top-color: var(--fill-color);\n",
              "      border-right-color: var(--fill-color);\n",
              "    }\n",
              "    40% {\n",
              "      border-color: transparent;\n",
              "      border-right-color: var(--fill-color);\n",
              "      border-top-color: var(--fill-color);\n",
              "    }\n",
              "    60% {\n",
              "      border-color: transparent;\n",
              "      border-right-color: var(--fill-color);\n",
              "    }\n",
              "    80% {\n",
              "      border-color: transparent;\n",
              "      border-right-color: var(--fill-color);\n",
              "      border-bottom-color: var(--fill-color);\n",
              "    }\n",
              "    90% {\n",
              "      border-color: transparent;\n",
              "      border-bottom-color: var(--fill-color);\n",
              "    }\n",
              "  }\n",
              "</style>\n",
              "\n",
              "  <script>\n",
              "    async function quickchart(key) {\n",
              "      const quickchartButtonEl =\n",
              "        document.querySelector('#' + key + ' button');\n",
              "      quickchartButtonEl.disabled = true;  // To prevent multiple clicks.\n",
              "      quickchartButtonEl.classList.add('colab-df-spinner');\n",
              "      try {\n",
              "        const charts = await google.colab.kernel.invokeFunction(\n",
              "            'suggestCharts', [key], {});\n",
              "      } catch (error) {\n",
              "        console.error('Error during call to suggestCharts:', error);\n",
              "      }\n",
              "      quickchartButtonEl.classList.remove('colab-df-spinner');\n",
              "      quickchartButtonEl.classList.add('colab-df-quickchart-complete');\n",
              "    }\n",
              "    (() => {\n",
              "      let quickchartButtonEl =\n",
              "        document.querySelector('#df-bbed077d-2daf-4aba-9987-c7e17b6c2418 button');\n",
              "      quickchartButtonEl.style.display =\n",
              "        google.colab.kernel.accessAllowed ? 'block' : 'none';\n",
              "    })();\n",
              "  </script>\n",
              "</div>\n",
              "\n",
              "    </div>\n",
              "  </div>\n"
            ],
            "application/vnd.google.colaboratory.intrinsic+json": {
              "type": "dataframe",
              "variable_name": "df",
              "summary": "{\n  \"name\": \"df\",\n  \"rows\": 10000,\n  \"fields\": [\n    {\n      \"column\": \"CustomerId\",\n      \"properties\": {\n        \"dtype\": \"number\",\n        \"std\": 71936,\n        \"min\": 15565701,\n        \"max\": 15815690,\n        \"num_unique_values\": 10000,\n        \"samples\": [\n          15687492,\n          15736963,\n          15721730\n        ],\n        \"semantic_type\": \"\",\n        \"description\": \"\"\n      }\n    },\n    {\n      \"column\": \"Surname\",\n      \"properties\": {\n        \"dtype\": \"category\",\n        \"num_unique_values\": 2932,\n        \"samples\": [\n          \"McGuirk\",\n          \"Torkelson\",\n          \"Rapuluchukwu\"\n        ],\n        \"semantic_type\": \"\",\n        \"description\": \"\"\n      }\n    },\n    {\n      \"column\": \"CreditScore\",\n      \"properties\": {\n        \"dtype\": \"number\",\n        \"std\": 96,\n        \"min\": 350,\n        \"max\": 850,\n        \"num_unique_values\": 460,\n        \"samples\": [\n          754,\n          533,\n          744\n        ],\n        \"semantic_type\": \"\",\n        \"description\": \"\"\n      }\n    },\n    {\n      \"column\": \"Geography\",\n      \"properties\": {\n        \"dtype\": \"category\",\n        \"num_unique_values\": 3,\n        \"samples\": [\n          \"France\",\n          \"Spain\",\n          \"Germany\"\n        ],\n        \"semantic_type\": \"\",\n        \"description\": \"\"\n      }\n    },\n    {\n      \"column\": \"Gender\",\n      \"properties\": {\n        \"dtype\": \"category\",\n        \"num_unique_values\": 2,\n        \"samples\": [\n          \"Male\",\n          \"Female\"\n        ],\n        \"semantic_type\": \"\",\n        \"description\": \"\"\n      }\n    },\n    {\n      \"column\": \"Age\",\n      \"properties\": {\n        \"dtype\": \"number\",\n        \"std\": 10,\n        \"min\": 18,\n        \"max\": 92,\n        \"num_unique_values\": 70,\n        \"samples\": [\n          61,\n          42\n        ],\n        \"semantic_type\": \"\",\n        \"description\": \"\"\n      }\n    },\n    {\n      \"column\": \"Tenure\",\n      \"properties\": {\n        \"dtype\": \"number\",\n        \"std\": 2,\n        \"min\": 0,\n        \"max\": 10,\n        \"num_unique_values\": 11,\n        \"samples\": [\n          6,\n          2\n        ],\n        \"semantic_type\": \"\",\n        \"description\": \"\"\n      }\n    },\n    {\n      \"column\": \"Balance\",\n      \"properties\": {\n        \"dtype\": \"number\",\n        \"std\": 62397.405202385955,\n        \"min\": 0.0,\n        \"max\": 250898.09,\n        \"num_unique_values\": 6382,\n        \"samples\": [\n          117707.18,\n          133050.97\n        ],\n        \"semantic_type\": \"\",\n        \"description\": \"\"\n      }\n    },\n    {\n      \"column\": \"Num Of Products\",\n      \"properties\": {\n        \"dtype\": \"number\",\n        \"std\": 0,\n        \"min\": 1,\n        \"max\": 4,\n        \"num_unique_values\": 4,\n        \"samples\": [\n          3,\n          4\n        ],\n        \"semantic_type\": \"\",\n        \"description\": \"\"\n      }\n    },\n    {\n      \"column\": \"Has Credit Card\",\n      \"properties\": {\n        \"dtype\": \"number\",\n        \"std\": 0,\n        \"min\": 0,\n        \"max\": 1,\n        \"num_unique_values\": 2,\n        \"samples\": [\n          0,\n          1\n        ],\n        \"semantic_type\": \"\",\n        \"description\": \"\"\n      }\n    },\n    {\n      \"column\": \"Is Active Member\",\n      \"properties\": {\n        \"dtype\": \"number\",\n        \"std\": 0,\n        \"min\": 0,\n        \"max\": 1,\n        \"num_unique_values\": 2,\n        \"samples\": [\n          0,\n          1\n        ],\n        \"semantic_type\": \"\",\n        \"description\": \"\"\n      }\n    },\n    {\n      \"column\": \"Estimated Salary\",\n      \"properties\": {\n        \"dtype\": \"number\",\n        \"std\": 57510.49281769816,\n        \"min\": 11.58,\n        \"max\": 199992.48,\n        \"num_unique_values\": 9999,\n        \"samples\": [\n          100809.99,\n          95273.73\n        ],\n        \"semantic_type\": \"\",\n        \"description\": \"\"\n      }\n    },\n    {\n      \"column\": \"Churn\",\n      \"properties\": {\n        \"dtype\": \"number\",\n        \"std\": 0,\n        \"min\": 0,\n        \"max\": 1,\n        \"num_unique_values\": 2,\n        \"samples\": [\n          0,\n          1\n        ],\n        \"semantic_type\": \"\",\n        \"description\": \"\"\n      }\n    }\n  ]\n}"
            }
          },
          "metadata": {},
          "execution_count": 6
        }
      ]
    },
    {
      "cell_type": "code",
      "source": [
        "df.info()"
      ],
      "metadata": {
        "colab": {
          "base_uri": "https://localhost:8080/"
        },
        "id": "O8JUOtAmlF4B",
        "outputId": "795d1cee-1cea-4221-e11d-c08b0581e7f7"
      },
      "execution_count": null,
      "outputs": [
        {
          "output_type": "stream",
          "name": "stdout",
          "text": [
            "<class 'pandas.core.frame.DataFrame'>\n",
            "RangeIndex: 10000 entries, 0 to 9999\n",
            "Data columns (total 13 columns):\n",
            " #   Column            Non-Null Count  Dtype  \n",
            "---  ------            --------------  -----  \n",
            " 0   CustomerId        10000 non-null  int64  \n",
            " 1   Surname           10000 non-null  object \n",
            " 2   CreditScore       10000 non-null  int64  \n",
            " 3   Geography         10000 non-null  object \n",
            " 4   Gender            10000 non-null  object \n",
            " 5   Age               10000 non-null  int64  \n",
            " 6   Tenure            10000 non-null  int64  \n",
            " 7   Balance           10000 non-null  float64\n",
            " 8   Num Of Products   10000 non-null  int64  \n",
            " 9   Has Credit Card   10000 non-null  int64  \n",
            " 10  Is Active Member  10000 non-null  int64  \n",
            " 11  Estimated Salary  10000 non-null  float64\n",
            " 12  Churn             10000 non-null  int64  \n",
            "dtypes: float64(2), int64(8), object(3)\n",
            "memory usage: 1015.8+ KB\n"
          ]
        }
      ]
    },
    {
      "cell_type": "code",
      "source": [
        "df.duplicated('CustomerId').sum()"
      ],
      "metadata": {
        "colab": {
          "base_uri": "https://localhost:8080/"
        },
        "id": "36dF6fyvlL2v",
        "outputId": "bb692b65-5251-4aea-f659-f2b20c6c910e"
      },
      "execution_count": null,
      "outputs": [
        {
          "output_type": "execute_result",
          "data": {
            "text/plain": [
              "0"
            ]
          },
          "metadata": {},
          "execution_count": 8
        }
      ]
    },
    {
      "cell_type": "code",
      "source": [
        "df=df.set_index('CustomerId')"
      ],
      "metadata": {
        "id": "doWvwBO8liAp"
      },
      "execution_count": null,
      "outputs": []
    },
    {
      "cell_type": "code",
      "source": [
        "df.info()"
      ],
      "metadata": {
        "colab": {
          "base_uri": "https://localhost:8080/"
        },
        "id": "nLi7AYlVl57M",
        "outputId": "56998a45-ff3a-4628-dc75-f6eee35ff889"
      },
      "execution_count": null,
      "outputs": [
        {
          "output_type": "stream",
          "name": "stdout",
          "text": [
            "<class 'pandas.core.frame.DataFrame'>\n",
            "Index: 10000 entries, 15634602 to 15628319\n",
            "Data columns (total 12 columns):\n",
            " #   Column            Non-Null Count  Dtype  \n",
            "---  ------            --------------  -----  \n",
            " 0   Surname           10000 non-null  object \n",
            " 1   CreditScore       10000 non-null  int64  \n",
            " 2   Geography         10000 non-null  object \n",
            " 3   Gender            10000 non-null  object \n",
            " 4   Age               10000 non-null  int64  \n",
            " 5   Tenure            10000 non-null  int64  \n",
            " 6   Balance           10000 non-null  float64\n",
            " 7   Num Of Products   10000 non-null  int64  \n",
            " 8   Has Credit Card   10000 non-null  int64  \n",
            " 9   Is Active Member  10000 non-null  int64  \n",
            " 10  Estimated Salary  10000 non-null  float64\n",
            " 11  Churn             10000 non-null  int64  \n",
            "dtypes: float64(2), int64(7), object(3)\n",
            "memory usage: 1015.6+ KB\n"
          ]
        }
      ]
    },
    {
      "cell_type": "markdown",
      "source": [
        "**Encoding**"
      ],
      "metadata": {
        "id": "xYnsZUJumFSv"
      }
    },
    {
      "cell_type": "code",
      "source": [
        "df['Geography'].value_counts()"
      ],
      "metadata": {
        "colab": {
          "base_uri": "https://localhost:8080/"
        },
        "id": "ETMcrpjhmLVZ",
        "outputId": "1e1e11e1-a4d8-44d6-9a04-1985a8f8d49e"
      },
      "execution_count": null,
      "outputs": [
        {
          "output_type": "execute_result",
          "data": {
            "text/plain": [
              "Geography\n",
              "France     5014\n",
              "Germany    2509\n",
              "Spain      2477\n",
              "Name: count, dtype: int64"
            ]
          },
          "metadata": {},
          "execution_count": 11
        }
      ]
    },
    {
      "cell_type": "code",
      "source": [
        "df.replace({'Geography':{'France':2,'Germany':1,'Spain':0}},inplace=True)"
      ],
      "metadata": {
        "id": "0QGPyWqCmWLn"
      },
      "execution_count": null,
      "outputs": []
    },
    {
      "cell_type": "code",
      "source": [
        "df['Gender'].value_counts()"
      ],
      "metadata": {
        "colab": {
          "base_uri": "https://localhost:8080/"
        },
        "id": "4rWFg_wum0ts",
        "outputId": "e208ad61-bb5b-4c67-a102-ee97e21c3d61"
      },
      "execution_count": null,
      "outputs": [
        {
          "output_type": "execute_result",
          "data": {
            "text/plain": [
              "Gender\n",
              "Male      5457\n",
              "Female    4543\n",
              "Name: count, dtype: int64"
            ]
          },
          "metadata": {},
          "execution_count": 13
        }
      ]
    },
    {
      "cell_type": "code",
      "source": [
        "df.replace({'Gender':{'Male':0,'Female':1}},inplace=True)"
      ],
      "metadata": {
        "id": "dfX_ODJynC_t"
      },
      "execution_count": null,
      "outputs": []
    },
    {
      "cell_type": "code",
      "source": [
        "df['Num Of Products'].value_counts()"
      ],
      "metadata": {
        "colab": {
          "base_uri": "https://localhost:8080/"
        },
        "id": "FS_quOqEnVSh",
        "outputId": "925ff91f-817c-428e-ddad-b217cbc9e1cc"
      },
      "execution_count": null,
      "outputs": [
        {
          "output_type": "execute_result",
          "data": {
            "text/plain": [
              "Num Of Products\n",
              "1    5084\n",
              "2    4590\n",
              "3     266\n",
              "4      60\n",
              "Name: count, dtype: int64"
            ]
          },
          "metadata": {},
          "execution_count": 15
        }
      ]
    },
    {
      "cell_type": "code",
      "source": [
        "df.replace({'Num Of Products':{1:0,2:1,3:1,4:1}},inplace=True)"
      ],
      "metadata": {
        "id": "XigZvV5ZoRDC"
      },
      "execution_count": null,
      "outputs": []
    },
    {
      "cell_type": "code",
      "source": [
        "df['Has Credit Card'].value_counts()"
      ],
      "metadata": {
        "colab": {
          "base_uri": "https://localhost:8080/"
        },
        "id": "l2Vor9vcreIy",
        "outputId": "a07fc8f3-2bd3-4dbc-c958-d6036a415d95"
      },
      "execution_count": null,
      "outputs": [
        {
          "output_type": "execute_result",
          "data": {
            "text/plain": [
              "Has Credit Card\n",
              "1    7055\n",
              "0    2945\n",
              "Name: count, dtype: int64"
            ]
          },
          "metadata": {},
          "execution_count": 17
        }
      ]
    },
    {
      "cell_type": "code",
      "source": [
        "df['Is Active Member'].value_counts()"
      ],
      "metadata": {
        "colab": {
          "base_uri": "https://localhost:8080/"
        },
        "id": "FKFxprO_r0a3",
        "outputId": "95e24944-058a-4912-d594-0b75f52940f4"
      },
      "execution_count": null,
      "outputs": [
        {
          "output_type": "execute_result",
          "data": {
            "text/plain": [
              "Is Active Member\n",
              "1    5151\n",
              "0    4849\n",
              "Name: count, dtype: int64"
            ]
          },
          "metadata": {},
          "execution_count": 18
        }
      ]
    },
    {
      "cell_type": "code",
      "source": [
        "df.loc[(df['Balance']==0), 'Churn'].value_counts()"
      ],
      "metadata": {
        "colab": {
          "base_uri": "https://localhost:8080/"
        },
        "id": "yDjnqPigsOj0",
        "outputId": "fa55e82d-6b2b-40fa-d52e-9ea126710009"
      },
      "execution_count": null,
      "outputs": [
        {
          "output_type": "execute_result",
          "data": {
            "text/plain": [
              "Churn\n",
              "0    3117\n",
              "1     500\n",
              "Name: count, dtype: int64"
            ]
          },
          "metadata": {},
          "execution_count": 19
        }
      ]
    },
    {
      "cell_type": "code",
      "source": [
        "df['Zero Balance']=np.where(df['Balance']>0, 1, 0)"
      ],
      "metadata": {
        "id": "jvx4004stpmu"
      },
      "execution_count": null,
      "outputs": []
    },
    {
      "cell_type": "code",
      "source": [
        "df['Zero Balance'].hist()"
      ],
      "metadata": {
        "colab": {
          "base_uri": "https://localhost:8080/",
          "height": 447
        },
        "id": "kDIe-Sett8GX",
        "outputId": "ab2f7058-8489-4893-b305-775af73e4cbc"
      },
      "execution_count": null,
      "outputs": [
        {
          "output_type": "execute_result",
          "data": {
            "text/plain": [
              "<Axes: >"
            ]
          },
          "metadata": {},
          "execution_count": 21
        },
        {
          "output_type": "display_data",
          "data": {
            "text/plain": [
              "<Figure size 640x480 with 1 Axes>"
            ],
            "image/png": "[encoded data removed]"
          },
          "metadata": {}
        }
      ]
    },
    {
      "cell_type": "code",
      "source": [
        "df.groupby(['Churn','Geography']).count()"
      ],
      "metadata": {
        "colab": {
          "base_uri": "https://localhost:8080/",
          "height": 269
        },
        "id": "43qcrXpcuBxE",
        "outputId": "a6935573-7a95-404e-e46f-00d329a3a18b"
      },
      "execution_count": null,
      "outputs": [
        {
          "output_type": "execute_result",
          "data": {
            "text/plain": [
              "                 Surname  CreditScore  Gender   Age  Tenure  Balance  \\\n",
              "Churn Geography                                                        \n",
              "0     0             2064         2064    2064  2064    2064     2064   \n",
              "      1             1695         1695    1695  1695    1695     1695   \n",
              "      2             4204         4204    4204  4204    4204     4204   \n",
              "1     0              413          413     413   413     413      413   \n",
              "      1              814          814     814   814     814      814   \n",
              "      2              810          810     810   810     810      810   \n",
              "\n",
              "                 Num Of Products  Has Credit Card  Is Active Member  \\\n",
              "Churn Geography                                                       \n",
              "0     0                     2064             2064              2064   \n",
              "      1                     1695             1695              1695   \n",
              "      2                     4204             4204              4204   \n",
              "1     0                      413              413               413   \n",
              "      1                      814              814               814   \n",
              "      2                      810              810               810   \n",
              "\n",
              "                 Estimated Salary  Zero Balance  \n",
              "Churn Geography                                  \n",
              "0     0                      2064          2064  \n",
              "      1                      1695          1695  \n",
              "      2                      4204          4204  \n",
              "1     0                       413           413  \n",
              "      1                       814           814  \n",
              "      2                       810           810  "
            ],
            "text/html": [
              "\n",
              "  <div id=\"df-ef760064-ef34-43c2-8609-5ff13c64e2ef\" class=\"colab-df-container\">\n",
              "    <div>\n",
              "<style scoped>\n",
              "    .dataframe tbody tr th:only-of-type {\n",
              "        vertical-align: middle;\n",
              "    }\n",
              "\n",
              "    .dataframe tbody tr th {\n",
              "        vertical-align: top;\n",
              "    }\n",
              "\n",
              "    .dataframe thead th {\n",
              "        text-align: right;\n",
              "    }\n",
              "</style>\n",
              "<table border=\"1\" class=\"dataframe\">\n",
              "  <thead>\n",
              "    <tr style=\"text-align: right;\">\n",
              "      <th></th>\n",
              "      <th></th>\n",
              "      <th>Surname</th>\n",
              "      <th>CreditScore</th>\n",
              "      <th>Gender</th>\n",
              "      <th>Age</th>\n",
              "      <th>Tenure</th>\n",
              "      <th>Balance</th>\n",
              "      <th>Num Of Products</th>\n",
              "      <th>Has Credit Card</th>\n",
              "      <th>Is Active Member</th>\n",
              "      <th>Estimated Salary</th>\n",
              "      <th>Zero Balance</th>\n",
              "    </tr>\n",
              "    <tr>\n",
              "      <th>Churn</th>\n",
              "      <th>Geography</th>\n",
              "      <th></th>\n",
              "      <th></th>\n",
              "      <th></th>\n",
              "      <th></th>\n",
              "      <th></th>\n",
              "      <th></th>\n",
              "      <th></th>\n",
              "      <th></th>\n",
              "      <th></th>\n",
              "      <th></th>\n",
              "      <th></th>\n",
              "    </tr>\n",
              "  </thead>\n",
              "  <tbody>\n",
              "    <tr>\n",
              "      <th rowspan=\"3\" valign=\"top\">0</th>\n",
              "      <th>0</th>\n",
              "      <td>2064</td>\n",
              "      <td>2064</td>\n",
              "      <td>2064</td>\n",
              "      <td>2064</td>\n",
              "      <td>2064</td>\n",
              "      <td>2064</td>\n",
              "      <td>2064</td>\n",
              "      <td>2064</td>\n",
              "      <td>2064</td>\n",
              "      <td>2064</td>\n",
              "      <td>2064</td>\n",
              "    </tr>\n",
              "    <tr>\n",
              "      <th>1</th>\n",
              "      <td>1695</td>\n",
              "      <td>1695</td>\n",
              "      <td>1695</td>\n",
              "      <td>1695</td>\n",
              "      <td>1695</td>\n",
              "      <td>1695</td>\n",
              "      <td>1695</td>\n",
              "      <td>1695</td>\n",
              "      <td>1695</td>\n",
              "      <td>1695</td>\n",
              "      <td>1695</td>\n",
              "    </tr>\n",
              "    <tr>\n",
              "      <th>2</th>\n",
              "      <td>4204</td>\n",
              "      <td>4204</td>\n",
              "      <td>4204</td>\n",
              "      <td>4204</td>\n",
              "      <td>4204</td>\n",
              "      <td>4204</td>\n",
              "      <td>4204</td>\n",
              "      <td>4204</td>\n",
              "      <td>4204</td>\n",
              "      <td>4204</td>\n",
              "      <td>4204</td>\n",
              "    </tr>\n",
              "    <tr>\n",
              "      <th rowspan=\"3\" valign=\"top\">1</th>\n",
              "      <th>0</th>\n",
              "      <td>413</td>\n",
              "      <td>413</td>\n",
              "      <td>413</td>\n",
              "      <td>413</td>\n",
              "      <td>413</td>\n",
              "      <td>413</td>\n",
              "      <td>413</td>\n",
              "      <td>413</td>\n",
              "      <td>413</td>\n",
              "      <td>413</td>\n",
              "      <td>413</td>\n",
              "    </tr>\n",
              "    <tr>\n",
              "      <th>1</th>\n",
              "      <td>814</td>\n",
              "      <td>814</td>\n",
              "      <td>814</td>\n",
              "      <td>814</td>\n",
              "      <td>814</td>\n",
              "      <td>814</td>\n",
              "      <td>814</td>\n",
              "      <td>814</td>\n",
              "      <td>814</td>\n",
              "      <td>814</td>\n",
              "      <td>814</td>\n",
              "    </tr>\n",
              "    <tr>\n",
              "      <th>2</th>\n",
              "      <td>810</td>\n",
              "      <td>810</td>\n",
              "      <td>810</td>\n",
              "      <td>810</td>\n",
              "      <td>810</td>\n",
              "      <td>810</td>\n",
              "      <td>810</td>\n",
              "      <td>810</td>\n",
              "      <td>810</td>\n",
              "      <td>810</td>\n",
              "      <td>810</td>\n",
              "    </tr>\n",
              "  </tbody>\n",
              "</table>\n",
              "</div>\n",
              "    <div class=\"colab-df-buttons\">\n",
              "\n",
              "  <div class=\"colab-df-container\">\n",
              "    <button class=\"colab-df-convert\" onclick=\"convertToInteractive('df-ef760064-ef34-43c2-8609-5ff13c64e2ef')\"\n",
              "            title=\"Convert this dataframe to an interactive table.\"\n",
              "            style=\"display:none;\">\n",
              "\n",
              "  <svg xmlns=\"http://www.w3.org/2000/svg\" height=\"24px\" viewBox=\"0 -960 960 960\">\n",
              "    <path d=\"M120-120v-720h720v720H120Zm60-500h600v-160H180v160Zm220 220h160v-160H400v160Zm0 220h160v-160H400v160ZM180-400h160v-160H180v160Zm440 0h160v-160H620v160ZM180-180h160v-160H180v160Zm440 0h160v-160H620v160Z\"/>\n",
              "  </svg>\n",
              "    </button>\n",
              "\n",
              "  <style>\n",
              "    .colab-df-container {\n",
              "      display:flex;\n",
              "      gap: 12px;\n",
              "    }\n",
              "\n",
              "    .colab-df-convert {\n",
              "      background-color: #E8F0FE;\n",
              "      border: none;\n",
              "      border-radius: 50%;\n",
              "      cursor: pointer;\n",
              "      display: none;\n",
              "      fill: #1967D2;\n",
              "      height: 32px;\n",
              "      padding: 0 0 0 0;\n",
              "      width: 32px;\n",
              "    }\n",
              "\n",
              "    .colab-df-convert:hover {\n",
              "      background-color: #E2EBFA;\n",
              "      box-shadow: 0px 1px 2px rgba(60, 64, 67, 0.3), 0px 1px 3px 1px rgba(60, 64, 67, 0.15);\n",
              "      fill: #174EA6;\n",
              "    }\n",
              "\n",
              "    .colab-df-buttons div {\n",
              "      margin-bottom: 4px;\n",
              "    }\n",
              "\n",
              "    [theme=dark] .colab-df-convert {\n",
              "      background-color: #3B4455;\n",
              "      fill: #D2E3FC;\n",
              "    }\n",
              "\n",
              "    [theme=dark] .colab-df-convert:hover {\n",
              "      background-color: #434B5C;\n",
              "      box-shadow: 0px 1px 3px 1px rgba(0, 0, 0, 0.15);\n",
              "      filter: drop-shadow(0px 1px 2px rgba(0, 0, 0, 0.3));\n",
              "      fill: #FFFFFF;\n",
              "    }\n",
              "  </style>\n",
              "\n",
              "    <script>\n",
              "      const buttonEl =\n",
              "        document.querySelector('#df-ef760064-ef34-43c2-8609-5ff13c64e2ef button.colab-df-convert');\n",
              "      buttonEl.style.display =\n",
              "        google.colab.kernel.accessAllowed ? 'block' : 'none';\n",
              "\n",
              "      async function convertToInteractive(key) {\n",
              "        const element = document.querySelector('#df-ef760064-ef34-43c2-8609-5ff13c64e2ef');\n",
              "        const dataTable =\n",
              "          await google.colab.kernel.invokeFunction('convertToInteractive',\n",
              "                                                    [key], {});\n",
              "        if (!dataTable) return;\n",
              "\n",
              "        const docLinkHtml = 'Like what you see? Visit the ' +\n",
              "          '<a target=\"_blank\" href=https://colab.research.google.com/notebooks/data_table.ipynb>data table notebook</a>'\n",
              "          + ' to learn more about interactive tables.';\n",
              "        element.innerHTML = '';\n",
              "        dataTable['output_type'] = 'display_data';\n",
              "        await google.colab.output.renderOutput(dataTable, element);\n",
              "        const docLink = document.createElement('div');\n",
              "        docLink.innerHTML = docLinkHtml;\n",
              "        element.appendChild(docLink);\n",
              "      }\n",
              "    </script>\n",
              "  </div>\n",
              "\n",
              "\n",
              "<div id=\"df-d02d2c6c-4d82-4827-b59e-3a09a0cc5b95\">\n",
              "  <button class=\"colab-df-quickchart\" onclick=\"quickchart('df-d02d2c6c-4d82-4827-b59e-3a09a0cc5b95')\"\n",
              "            title=\"Suggest charts\"\n",
              "            style=\"display:none;\">\n",
              "\n",
              "<svg xmlns=\"http://www.w3.org/2000/svg\" height=\"24px\"viewBox=\"0 0 24 24\"\n",
              "     width=\"24px\">\n",
              "    <g>\n",
              "        <path d=\"M19 3H5c-1.1 0-2 .9-2 2v14c0 1.1.9 2 2 2h14c1.1 0 2-.9 2-2V5c0-1.1-.9-2-2-2zM9 17H7v-7h2v7zm4 0h-2V7h2v10zm4 0h-2v-4h2v4z\"/>\n",
              "    </g>\n",
              "</svg>\n",
              "  </button>\n",
              "\n",
              "<style>\n",
              "  .colab-df-quickchart {\n",
              "      --bg-color: #E8F0FE;\n",
              "      --fill-color: #1967D2;\n",
              "      --hover-bg-color: #E2EBFA;\n",
              "      --hover-fill-color: #174EA6;\n",
              "      --disabled-fill-color: #AAA;\n",
              "      --disabled-bg-color: #DDD;\n",
              "  }\n",
              "\n",
              "  [theme=dark] .colab-df-quickchart {\n",
              "      --bg-color: #3B4455;\n",
              "      --fill-color: #D2E3FC;\n",
              "      --hover-bg-color: #434B5C;\n",
              "      --hover-fill-color: #FFFFFF;\n",
              "      --disabled-bg-color: #3B4455;\n",
              "      --disabled-fill-color: #666;\n",
              "  }\n",
              "\n",
              "  .colab-df-quickchart {\n",
              "    background-color: var(--bg-color);\n",
              "    border: none;\n",
              "    border-radius: 50%;\n",
              "    cursor: pointer;\n",
              "    display: none;\n",
              "    fill: var(--fill-color);\n",
              "    height: 32px;\n",
              "    padding: 0;\n",
              "    width: 32px;\n",
              "  }\n",
              "\n",
              "  .colab-df-quickchart:hover {\n",
              "    background-color: var(--hover-bg-color);\n",
              "    box-shadow: 0 1px 2px rgba(60, 64, 67, 0.3), 0 1px 3px 1px rgba(60, 64, 67, 0.15);\n",
              "    fill: var(--button-hover-fill-color);\n",
              "  }\n",
              "\n",
              "  .colab-df-quickchart-complete:disabled,\n",
              "  .colab-df-quickchart-complete:disabled:hover {\n",
              "    background-color: var(--disabled-bg-color);\n",
              "    fill: var(--disabled-fill-color);\n",
              "    box-shadow: none;\n",
              "  }\n",
              "\n",
              "  .colab-df-spinner {\n",
              "    border: 2px solid var(--fill-color);\n",
              "    border-color: transparent;\n",
              "    border-bottom-color: var(--fill-color);\n",
              "    animation:\n",
              "      spin 1s steps(1) infinite;\n",
              "  }\n",
              "\n",
              "  @keyframes spin {\n",
              "    0% {\n",
              "      border-color: transparent;\n",
              "      border-bottom-color: var(--fill-color);\n",
              "      border-left-color: var(--fill-color);\n",
              "    }\n",
              "    20% {\n",
              "      border-color: transparent;\n",
              "      border-left-color: var(--fill-color);\n",
              "      border-top-color: var(--fill-color);\n",
              "    }\n",
              "    30% {\n",
              "      border-color: transparent;\n",
              "      border-left-color: var(--fill-color);\n",
              "      border-top-color: var(--fill-color);\n",
              "      border-right-color: var(--fill-color);\n",
              "    }\n",
              "    40% {\n",
              "      border-color: transparent;\n",
              "      border-right-color: var(--fill-color);\n",
              "      border-top-color: var(--fill-color);\n",
              "    }\n",
              "    60% {\n",
              "      border-color: transparent;\n",
              "      border-right-color: var(--fill-color);\n",
              "    }\n",
              "    80% {\n",
              "      border-color: transparent;\n",
              "      border-right-color: var(--fill-color);\n",
              "      border-bottom-color: var(--fill-color);\n",
              "    }\n",
              "    90% {\n",
              "      border-color: transparent;\n",
              "      border-bottom-color: var(--fill-color);\n",
              "    }\n",
              "  }\n",
              "</style>\n",
              "\n",
              "  <script>\n",
              "    async function quickchart(key) {\n",
              "      const quickchartButtonEl =\n",
              "        document.querySelector('#' + key + ' button');\n",
              "      quickchartButtonEl.disabled = true;  // To prevent multiple clicks.\n",
              "      quickchartButtonEl.classList.add('colab-df-spinner');\n",
              "      try {\n",
              "        const charts = await google.colab.kernel.invokeFunction(\n",
              "            'suggestCharts', [key], {});\n",
              "      } catch (error) {\n",
              "        console.error('Error during call to suggestCharts:', error);\n",
              "      }\n",
              "      quickchartButtonEl.classList.remove('colab-df-spinner');\n",
              "      quickchartButtonEl.classList.add('colab-df-quickchart-complete');\n",
              "    }\n",
              "    (() => {\n",
              "      let quickchartButtonEl =\n",
              "        document.querySelector('#df-d02d2c6c-4d82-4827-b59e-3a09a0cc5b95 button');\n",
              "      quickchartButtonEl.style.display =\n",
              "        google.colab.kernel.accessAllowed ? 'block' : 'none';\n",
              "    })();\n",
              "  </script>\n",
              "</div>\n",
              "\n",
              "    </div>\n",
              "  </div>\n"
            ],
            "application/vnd.google.colaboratory.intrinsic+json": {
              "type": "dataframe",
              "summary": "{\n  \"name\": \"df\",\n  \"rows\": 6,\n  \"fields\": [\n    {\n      \"column\": \"Surname\",\n      \"properties\": {\n        \"dtype\": \"number\",\n        \"std\": 1387,\n        \"min\": 413,\n        \"max\": 4204,\n        \"num_unique_values\": 6,\n        \"samples\": [\n          2064,\n          1695,\n          810\n        ],\n        \"semantic_type\": \"\",\n        \"description\": \"\"\n      }\n    },\n    {\n      \"column\": \"CreditScore\",\n      \"properties\": {\n        \"dtype\": \"number\",\n        \"std\": 1387,\n        \"min\": 413,\n        \"max\": 4204,\n        \"num_unique_values\": 6,\n        \"samples\": [\n          2064,\n          1695,\n          810\n        ],\n        \"semantic_type\": \"\",\n        \"description\": \"\"\n      }\n    },\n    {\n      \"column\": \"Gender\",\n      \"properties\": {\n        \"dtype\": \"number\",\n        \"std\": 1387,\n        \"min\": 413,\n        \"max\": 4204,\n        \"num_unique_values\": 6,\n        \"samples\": [\n          2064,\n          1695,\n          810\n        ],\n        \"semantic_type\": \"\",\n        \"description\": \"\"\n      }\n    },\n    {\n      \"column\": \"Age\",\n      \"properties\": {\n        \"dtype\": \"number\",\n        \"std\": 1387,\n        \"min\": 413,\n        \"max\": 4204,\n        \"num_unique_values\": 6,\n        \"samples\": [\n          2064,\n          1695,\n          810\n        ],\n        \"semantic_type\": \"\",\n        \"description\": \"\"\n      }\n    },\n    {\n      \"column\": \"Tenure\",\n      \"properties\": {\n        \"dtype\": \"number\",\n        \"std\": 1387,\n        \"min\": 413,\n        \"max\": 4204,\n        \"num_unique_values\": 6,\n        \"samples\": [\n          2064,\n          1695,\n          810\n        ],\n        \"semantic_type\": \"\",\n        \"description\": \"\"\n      }\n    },\n    {\n      \"column\": \"Balance\",\n      \"properties\": {\n        \"dtype\": \"number\",\n        \"std\": 1387,\n        \"min\": 413,\n        \"max\": 4204,\n        \"num_unique_values\": 6,\n        \"samples\": [\n          2064,\n          1695,\n          810\n        ],\n        \"semantic_type\": \"\",\n        \"description\": \"\"\n      }\n    },\n    {\n      \"column\": \"Num Of Products\",\n      \"properties\": {\n        \"dtype\": \"number\",\n        \"std\": 1387,\n        \"min\": 413,\n        \"max\": 4204,\n        \"num_unique_values\": 6,\n        \"samples\": [\n          2064,\n          1695,\n          810\n        ],\n        \"semantic_type\": \"\",\n        \"description\": \"\"\n      }\n    },\n    {\n      \"column\": \"Has Credit Card\",\n      \"properties\": {\n        \"dtype\": \"number\",\n        \"std\": 1387,\n        \"min\": 413,\n        \"max\": 4204,\n        \"num_unique_values\": 6,\n        \"samples\": [\n          2064,\n          1695,\n          810\n        ],\n        \"semantic_type\": \"\",\n        \"description\": \"\"\n      }\n    },\n    {\n      \"column\": \"Is Active Member\",\n      \"properties\": {\n        \"dtype\": \"number\",\n        \"std\": 1387,\n        \"min\": 413,\n        \"max\": 4204,\n        \"num_unique_values\": 6,\n        \"samples\": [\n          2064,\n          1695,\n          810\n        ],\n        \"semantic_type\": \"\",\n        \"description\": \"\"\n      }\n    },\n    {\n      \"column\": \"Estimated Salary\",\n      \"properties\": {\n        \"dtype\": \"number\",\n        \"std\": 1387,\n        \"min\": 413,\n        \"max\": 4204,\n        \"num_unique_values\": 6,\n        \"samples\": [\n          2064,\n          1695,\n          810\n        ],\n        \"semantic_type\": \"\",\n        \"description\": \"\"\n      }\n    },\n    {\n      \"column\": \"Zero Balance\",\n      \"properties\": {\n        \"dtype\": \"number\",\n        \"std\": 1387,\n        \"min\": 413,\n        \"max\": 4204,\n        \"num_unique_values\": 6,\n        \"samples\": [\n          2064,\n          1695,\n          810\n        ],\n        \"semantic_type\": \"\",\n        \"description\": \"\"\n      }\n    }\n  ]\n}"
            }
          },
          "metadata": {},
          "execution_count": 22
        }
      ]
    },
    {
      "cell_type": "markdown",
      "source": [
        "**Define Label and Features**"
      ],
      "metadata": {
        "id": "DVJ4pPFzxiuf"
      }
    },
    {
      "cell_type": "code",
      "source": [
        "df.columns"
      ],
      "metadata": {
        "colab": {
          "base_uri": "https://localhost:8080/"
        },
        "id": "EVW2FTg3urSj",
        "outputId": "042f0eb2-ce54-4097-9b9f-1821a1e3541f"
      },
      "execution_count": null,
      "outputs": [
        {
          "output_type": "execute_result",
          "data": {
            "text/plain": [
              "Index(['Surname', 'CreditScore', 'Geography', 'Gender', 'Age', 'Tenure',\n",
              "       'Balance', 'Num Of Products', 'Has Credit Card', 'Is Active Member',\n",
              "       'Estimated Salary', 'Churn', 'Zero Balance'],\n",
              "      dtype='object')"
            ]
          },
          "metadata": {},
          "execution_count": 23
        }
      ]
    },
    {
      "cell_type": "code",
      "source": [
        "X=df.drop(['Surname','Churn'],axis=1)"
      ],
      "metadata": {
        "id": "tKg7FKLSuuZK"
      },
      "execution_count": null,
      "outputs": []
    },
    {
      "cell_type": "code",
      "source": [
        "y=df['Churn']"
      ],
      "metadata": {
        "id": "Jl5I-ZWDu4rP"
      },
      "execution_count": null,
      "outputs": []
    },
    {
      "cell_type": "code",
      "source": [
        "X.shape,y.shape"
      ],
      "metadata": {
        "colab": {
          "base_uri": "https://localhost:8080/"
        },
        "id": "lfGAI82Fu71t",
        "outputId": "be2b9550-17c8-4cac-980e-d046e5051c4a"
      },
      "execution_count": null,
      "outputs": [
        {
          "output_type": "execute_result",
          "data": {
            "text/plain": [
              "((10000, 11), (10000,))"
            ]
          },
          "metadata": {},
          "execution_count": 26
        }
      ]
    },
    {
      "cell_type": "markdown",
      "source": [
        "**Handling Imbalance Data**\n",
        "\n",
        "\n",
        "\n",
        "Class Imbalance is a common problem in machine learning, especially in classification problems as machine learning algorithms are designed to maximize accuracy and reduce errors. If the data set is imbalance then in such cases, just by predicting the majority class we get a pretty high accuracy, but falis to capture the minority class, which is modt often point of creating the model in the first place. Like in\n",
        "\n",
        "**1. Fraud detection**\n",
        "\n",
        "**2. Spam filtering**\n",
        "\n",
        "**3. Disease screening**\n",
        "\n",
        "**4. Online sales churn**\n",
        "\n",
        "**5. Advertising click-throughs**\n",
        "\n",
        "**Undersampling** can be defined as removing some observations of the majority class. This is done until the majority and minority class is balanced out.\n",
        "\n",
        "Undersampling can be a good choice when you have a ton of data-think millions of rows. But a drawback to undersampling is that we are removing information that may be valuable.\n",
        "\n",
        "In under-sampling, the simplest technique involves removing random records from the majority class, which can cause loss of information.\n",
        "\n",
        "A drawback to consider when undersampling is that it can cause overfitting and poor generalization to your test set.\n",
        "\n",
        "**Oversampling** can be defined as adding more copies to the minority class. Oversampling can be a good choice when you don't have a ton of data to work with.\n",
        "\n",
        "The simplest implementation of over-sampling is to duplicate random records from the minority class, which can cause overfitting.\n",
        "\n",
        "![Oversampling vs Undersampling.jpg](data:image/jpeg;base64,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)\n",
        "\n"
      ],
      "metadata": {
        "id": "N68j-pWUx5wq"
      }
    },
    {
      "cell_type": "code",
      "source": [
        "df['Churn'].value_counts()"
      ],
      "metadata": {
        "colab": {
          "base_uri": "https://localhost:8080/"
        },
        "id": "JkmnIDRIwxUy",
        "outputId": "74fe7ea7-bde5-45ca-b80a-10b59e7e0911"
      },
      "execution_count": null,
      "outputs": [
        {
          "output_type": "execute_result",
          "data": {
            "text/plain": [
              "Churn\n",
              "0    7963\n",
              "1    2037\n",
              "Name: count, dtype: int64"
            ]
          },
          "metadata": {},
          "execution_count": 27
        }
      ]
    },
    {
      "cell_type": "code",
      "source": [
        "sns.countplot(x='Churn', data = df);"
      ],
      "metadata": {
        "colab": {
          "base_uri": "https://localhost:8080/",
          "height": 449
        },
        "id": "Y-IpUoItxIjG",
        "outputId": "282697c1-d762-48a8-caf1-213962bb3593"
      },
      "execution_count": null,
      "outputs": [
        {
          "output_type": "display_data",
          "data": {
            "text/plain": [
              "<Figure size 640x480 with 1 Axes>"
            ],
            "image/png": "[encoded data removed]"
          },
          "metadata": {}
        }
      ]
    },
    {
      "cell_type": "code",
      "source": [
        "X.shape, y.shape"
      ],
      "metadata": {
        "colab": {
          "base_uri": "https://localhost:8080/"
        },
        "id": "aTN_bomc21ih",
        "outputId": "a63009d1-441e-41e6-8eaf-468e4a1e10ef"
      },
      "execution_count": null,
      "outputs": [
        {
          "output_type": "execute_result",
          "data": {
            "text/plain": [
              "((10000, 11), (10000,))"
            ]
          },
          "metadata": {},
          "execution_count": 29
        }
      ]
    },
    {
      "cell_type": "markdown",
      "source": [
        "**Random Under Sampling**"
      ],
      "metadata": {
        "id": "2OvyG7ID3Bre"
      }
    },
    {
      "cell_type": "code",
      "source": [
        "from imblearn.under_sampling import RandomUnderSampler"
      ],
      "metadata": {
        "id": "eWDwIdlz3FrK"
      },
      "execution_count": null,
      "outputs": []
    },
    {
      "cell_type": "code",
      "source": [
        "rus=RandomUnderSampler(random_state=2529)"
      ],
      "metadata": {
        "id": "zZXmSRne3NmK"
      },
      "execution_count": null,
      "outputs": []
    },
    {
      "cell_type": "code",
      "source": [
        "X_rus, y_rus = rus.fit_resample(X,y)"
      ],
      "metadata": {
        "id": "3CljqTm43Vn1"
      },
      "execution_count": null,
      "outputs": []
    },
    {
      "cell_type": "code",
      "source": [
        "X_rus.shape, y_rus.shape, X.shape, y.shape"
      ],
      "metadata": {
        "colab": {
          "base_uri": "https://localhost:8080/"
        },
        "id": "QspCNbTd3eai",
        "outputId": "89c52222-f853-461c-dcd9-7175dca306f3"
      },
      "execution_count": null,
      "outputs": [
        {
          "output_type": "execute_result",
          "data": {
            "text/plain": [
              "((4074, 11), (4074,), (10000, 11), (10000,))"
            ]
          },
          "metadata": {},
          "execution_count": 33
        }
      ]
    },
    {
      "cell_type": "code",
      "source": [
        "y.value_counts()"
      ],
      "metadata": {
        "colab": {
          "base_uri": "https://localhost:8080/"
        },
        "id": "9uLOoR3Y3mif",
        "outputId": "d2628e02-e0dc-423c-af56-254b59b9844f"
      },
      "execution_count": null,
      "outputs": [
        {
          "output_type": "execute_result",
          "data": {
            "text/plain": [
              "Churn\n",
              "0    7963\n",
              "1    2037\n",
              "Name: count, dtype: int64"
            ]
          },
          "metadata": {},
          "execution_count": 34
        }
      ]
    },
    {
      "cell_type": "code",
      "source": [
        "y_rus.value_counts()"
      ],
      "metadata": {
        "colab": {
          "base_uri": "https://localhost:8080/"
        },
        "id": "7p0QnHlR3p6V",
        "outputId": "702b3892-1832-4541-ead6-93a4ea166c8d"
      },
      "execution_count": null,
      "outputs": [
        {
          "output_type": "execute_result",
          "data": {
            "text/plain": [
              "Churn\n",
              "0    2037\n",
              "1    2037\n",
              "Name: count, dtype: int64"
            ]
          },
          "metadata": {},
          "execution_count": 35
        }
      ]
    },
    {
      "cell_type": "code",
      "source": [
        "y_rus.plot(kind='hist')"
      ],
      "metadata": {
        "colab": {
          "base_uri": "https://localhost:8080/",
          "height": 447
        },
        "id": "OYtbJl4F3xsR",
        "outputId": "f653e8d3-4498-4260-d7b1-a080ca8ee3ff"
      },
      "execution_count": null,
      "outputs": [
        {
          "output_type": "execute_result",
          "data": {
            "text/plain": [
              "<Axes: ylabel='Frequency'>"
            ]
          },
          "metadata": {},
          "execution_count": 36
        },
        {
          "output_type": "display_data",
          "data": {
            "text/plain": [
              "<Figure size 640x480 with 1 Axes>"
            ],
            "image/png": "[encoded data removed]"
          },
          "metadata": {}
        }
      ]
    },
    {
      "cell_type": "markdown",
      "source": [
        "**Random Over Sampling**"
      ],
      "metadata": {
        "id": "ZiG-R8Bt39ll"
      }
    },
    {
      "cell_type": "code",
      "source": [
        "from imblearn.over_sampling import RandomOverSampler"
      ],
      "metadata": {
        "id": "j2S7QhS94BNV"
      },
      "execution_count": null,
      "outputs": []
    },
    {
      "cell_type": "code",
      "source": [
        "ros=RandomOverSampler(random_state=2529)"
      ],
      "metadata": {
        "id": "_vocSNqy4J-_"
      },
      "execution_count": null,
      "outputs": []
    },
    {
      "cell_type": "code",
      "source": [
        "X_ros, y_ros = ros.fit_resample(X,y)"
      ],
      "metadata": {
        "id": "ZP8mTDgK4UFW"
      },
      "execution_count": null,
      "outputs": []
    },
    {
      "cell_type": "code",
      "source": [
        "X_ros.shape, y_ros.shape, X.shape, y.shape"
      ],
      "metadata": {
        "colab": {
          "base_uri": "https://localhost:8080/"
        },
        "id": "KXonI_Fz4boa",
        "outputId": "c851e915-c598-4610-aaec-6930cc093103"
      },
      "execution_count": null,
      "outputs": [
        {
          "output_type": "execute_result",
          "data": {
            "text/plain": [
              "((15926, 11), (15926,), (10000, 11), (10000,))"
            ]
          },
          "metadata": {},
          "execution_count": 40
        }
      ]
    },
    {
      "cell_type": "code",
      "source": [
        "y.value_counts()"
      ],
      "metadata": {
        "colab": {
          "base_uri": "https://localhost:8080/"
        },
        "id": "7mlG_Z2Z4jVO",
        "outputId": "8b044a3b-5efe-4069-8f43-20e65d3764a3"
      },
      "execution_count": null,
      "outputs": [
        {
          "output_type": "execute_result",
          "data": {
            "text/plain": [
              "Churn\n",
              "0    7963\n",
              "1    2037\n",
              "Name: count, dtype: int64"
            ]
          },
          "metadata": {},
          "execution_count": 41
        }
      ]
    },
    {
      "cell_type": "code",
      "source": [
        "y_ros.value_counts()"
      ],
      "metadata": {
        "colab": {
          "base_uri": "https://localhost:8080/"
        },
        "id": "6orCO8cm4m12",
        "outputId": "79b6b490-92fb-4498-f901-75c20979c361"
      },
      "execution_count": null,
      "outputs": [
        {
          "output_type": "execute_result",
          "data": {
            "text/plain": [
              "Churn\n",
              "1    7963\n",
              "0    7963\n",
              "Name: count, dtype: int64"
            ]
          },
          "metadata": {},
          "execution_count": 42
        }
      ]
    },
    {
      "cell_type": "code",
      "source": [
        "y_ros.plot(kind = 'hist')"
      ],
      "metadata": {
        "colab": {
          "base_uri": "https://localhost:8080/",
          "height": 447
        },
        "id": "wOqRZPL64xsl",
        "outputId": "6adf2efb-5a25-415a-fe51-58c6668dab06"
      },
      "execution_count": null,
      "outputs": [
        {
          "output_type": "execute_result",
          "data": {
            "text/plain": [
              "<Axes: ylabel='Frequency'>"
            ]
          },
          "metadata": {},
          "execution_count": 43
        },
        {
          "output_type": "display_data",
          "data": {
            "text/plain": [
              "<Figure size 640x480 with 1 Axes>"
            ],
            "image/png": "[encoded data removed]"
          },
          "metadata": {}
        }
      ]
    },
    {
      "cell_type": "code",
      "source": [
        "from sklearn.model_selection import train_test_split"
      ],
      "metadata": {
        "id": "44rj-GEc6H4N"
      },
      "execution_count": null,
      "outputs": []
    },
    {
      "cell_type": "markdown",
      "source": [
        "**Split Original Data**"
      ],
      "metadata": {
        "id": "QqsyGRfH48Cf"
      }
    },
    {
      "cell_type": "code",
      "source": [
        "X_train, X_test, y_train, y_test= train_test_split(X,y,test_size=0.3, random_state =25)"
      ],
      "metadata": {
        "id": "kA4cONFw4_to"
      },
      "execution_count": null,
      "outputs": []
    },
    {
      "cell_type": "markdown",
      "source": [
        "**Split Random Under Sample Data**"
      ],
      "metadata": {
        "id": "YtCsOU3A5aOV"
      }
    },
    {
      "cell_type": "code",
      "source": [
        "X_train_rus, X_test_rus, y_train_rus, y_test_rus= train_test_split(X_rus,y_rus,test_size=0.3, random_state =2529)"
      ],
      "metadata": {
        "id": "CjWLwHDg5lpa"
      },
      "execution_count": null,
      "outputs": []
    },
    {
      "cell_type": "markdown",
      "source": [
        "**Split Random Over Sample Data**"
      ],
      "metadata": {
        "id": "ugWSsRIa6TBk"
      }
    },
    {
      "cell_type": "code",
      "source": [
        "X_train_ros, X_test_ros, y_train_ros, y_test_ros= train_test_split(X_ros,y_ros,test_size=0.3, random_state =2529)\n"
      ],
      "metadata": {
        "id": "AitHFhe66bUi"
      },
      "execution_count": null,
      "outputs": []
    },
    {
      "cell_type": "markdown",
      "source": [
        "**Standardize Features**"
      ],
      "metadata": {
        "id": "0eYg2_a-6oL0"
      }
    },
    {
      "cell_type": "code",
      "source": [
        "from sklearn.preprocessing import StandardScaler"
      ],
      "metadata": {
        "id": "OHtiwfcw6usW"
      },
      "execution_count": null,
      "outputs": []
    },
    {
      "cell_type": "code",
      "source": [
        "sc=StandardScaler()"
      ],
      "metadata": {
        "id": "fUmztwQM65SW"
      },
      "execution_count": null,
      "outputs": []
    },
    {
      "cell_type": "markdown",
      "source": [
        "**Standardize Original Data**"
      ],
      "metadata": {
        "id": "6CYrd9r169KA"
      }
    },
    {
      "cell_type": "code",
      "source": [
        "X_train[['CreditScore', 'Age', 'Tenure', 'Balance', 'Estimated Salary']] = sc.fit_transform(X_train[['CreditScore', 'Age', 'Tenure', 'Balance', 'Estimated Salary']])\n"
      ],
      "metadata": {
        "id": "mCXFAgTD7ChA"
      },
      "execution_count": null,
      "outputs": []
    },
    {
      "cell_type": "code",
      "source": [
        "X_test[['CreditScore', 'Age', 'Tenure', 'Balance', 'Estimated Salary']] = sc.fit_transform(X_test[['CreditScore', 'Age', 'Tenure', 'Balance', 'Estimated Salary']])\n"
      ],
      "metadata": {
        "id": "fk6LNc9i9owp"
      },
      "execution_count": null,
      "outputs": []
    },
    {
      "cell_type": "markdown",
      "source": [
        "**Standardize Random Under Sample Data**"
      ],
      "metadata": {
        "id": "gn5DUkMA93Uk"
      }
    },
    {
      "cell_type": "code",
      "source": [
        "X_train_rus[['CreditScore', 'Age', 'Tenure', 'Balance', 'Estimated Salary']] = sc.fit_transform(X_train_rus[['CreditScore', 'Age', 'Tenure', 'Balance', 'Estimated Salary']])\n"
      ],
      "metadata": {
        "id": "bJVnEaei99q5"
      },
      "execution_count": null,
      "outputs": []
    },
    {
      "cell_type": "code",
      "source": [
        "X_test_rus[['CreditScore', 'Age', 'Tenure', 'Balance', 'Estimated Salary']] = sc.fit_transform(X_test_rus[['CreditScore', 'Age', 'Tenure', 'Balance', 'Estimated Salary']])\n"
      ],
      "metadata": {
        "id": "6DLFt1v5-H41"
      },
      "execution_count": null,
      "outputs": []
    },
    {
      "cell_type": "markdown",
      "source": [
        "**Standardize Random Over Sample Data**"
      ],
      "metadata": {
        "id": "WhcXMdUf-NrK"
      }
    },
    {
      "cell_type": "code",
      "source": [
        "X_train_ros[['CreditScore', 'Age', 'Tenure', 'Balance', 'Estimated Salary']] = sc.fit_transform(X_train_ros[['CreditScore', 'Age', 'Tenure', 'Balance', 'Estimated Salary']])"
      ],
      "metadata": {
        "id": "ouDl5bFh-SqB"
      },
      "execution_count": null,
      "outputs": []
    },
    {
      "cell_type": "code",
      "source": [
        "X_test_ros[['CreditScore', 'Age', 'Tenure', 'Balance', 'Estimated Salary']] = sc.fit_transform(X_test_ros[['CreditScore', 'Age', 'Tenure', 'Balance', 'Estimated Salary']])"
      ],
      "metadata": {
        "id": "0Bk2hheZ_Vsh"
      },
      "execution_count": null,
      "outputs": []
    },
    {
      "cell_type": "markdown",
      "source": [
        "**Support Vector Machine Classifire**"
      ],
      "metadata": {
        "id": "5YiqW8Rm_d0o"
      }
    },
    {
      "cell_type": "code",
      "source": [
        "from sklearn.svm import SVC"
      ],
      "metadata": {
        "id": "rorOP_WR_i3D"
      },
      "execution_count": null,
      "outputs": []
    },
    {
      "cell_type": "code",
      "source": [
        "svc=SVC()"
      ],
      "metadata": {
        "id": "2P2ykLmo_mWO"
      },
      "execution_count": null,
      "outputs": []
    },
    {
      "cell_type": "code",
      "source": [
        "svc.fit(X_train,y_train)"
      ],
      "metadata": {
        "colab": {
          "base_uri": "https://localhost:8080/",
          "height": 74
        },
        "id": "8a8wlrEv_own",
        "outputId": "4f9971b9-0e79-4e49-d8b7-7cc7b67e1d44"
      },
      "execution_count": null,
      "outputs": [
        {
          "output_type": "execute_result",
          "data": {
            "text/plain": [
              "SVC()"
            ],
            "text/html": [
              "<style>#sk-container-id-1 {color: black;background-color: white;}#sk-container-id-1 pre{padding: 0;}#sk-container-id-1 div.sk-toggleable {background-color: white;}#sk-container-id-1 label.sk-toggleable__label {cursor: pointer;display: block;width: 100%;margin-bottom: 0;padding: 0.3em;box-sizing: border-box;text-align: center;}#sk-container-id-1 label.sk-toggleable__label-arrow:before {content: \"▸\";float: left;margin-right: 0.25em;color: #696969;}#sk-container-id-1 label.sk-toggleable__label-arrow:hover:before {color: black;}#sk-container-id-1 div.sk-estimator:hover label.sk-toggleable__label-arrow:before {color: black;}#sk-container-id-1 div.sk-toggleable__content {max-height: 0;max-width: 0;overflow: hidden;text-align: left;background-color: #f0f8ff;}#sk-container-id-1 div.sk-toggleable__content pre {margin: 0.2em;color: black;border-radius: 0.25em;background-color: #f0f8ff;}#sk-container-id-1 input.sk-toggleable__control:checked~div.sk-toggleable__content {max-height: 200px;max-width: 100%;overflow: auto;}#sk-container-id-1 input.sk-toggleable__control:checked~label.sk-toggleable__label-arrow:before {content: \"▾\";}#sk-container-id-1 div.sk-estimator input.sk-toggleable__control:checked~label.sk-toggleable__label {background-color: #d4ebff;}#sk-container-id-1 div.sk-label input.sk-toggleable__control:checked~label.sk-toggleable__label {background-color: #d4ebff;}#sk-container-id-1 input.sk-hidden--visually {border: 0;clip: rect(1px 1px 1px 1px);clip: rect(1px, 1px, 1px, 1px);height: 1px;margin: -1px;overflow: hidden;padding: 0;position: absolute;width: 1px;}#sk-container-id-1 div.sk-estimator {font-family: monospace;background-color: #f0f8ff;border: 1px dotted black;border-radius: 0.25em;box-sizing: border-box;margin-bottom: 0.5em;}#sk-container-id-1 div.sk-estimator:hover {background-color: #d4ebff;}#sk-container-id-1 div.sk-parallel-item::after {content: \"\";width: 100%;border-bottom: 1px solid gray;flex-grow: 1;}#sk-container-id-1 div.sk-label:hover label.sk-toggleable__label {background-color: #d4ebff;}#sk-container-id-1 div.sk-serial::before {content: \"\";position: absolute;border-left: 1px solid gray;box-sizing: border-box;top: 0;bottom: 0;left: 50%;z-index: 0;}#sk-container-id-1 div.sk-serial {display: flex;flex-direction: column;align-items: center;background-color: white;padding-right: 0.2em;padding-left: 0.2em;position: relative;}#sk-container-id-1 div.sk-item {position: relative;z-index: 1;}#sk-container-id-1 div.sk-parallel {display: flex;align-items: stretch;justify-content: center;background-color: white;position: relative;}#sk-container-id-1 div.sk-item::before, #sk-container-id-1 div.sk-parallel-item::before {content: \"\";position: absolute;border-left: 1px solid gray;box-sizing: border-box;top: 0;bottom: 0;left: 50%;z-index: -1;}#sk-container-id-1 div.sk-parallel-item {display: flex;flex-direction: column;z-index: 1;position: relative;background-color: white;}#sk-container-id-1 div.sk-parallel-item:first-child::after {align-self: flex-end;width: 50%;}#sk-container-id-1 div.sk-parallel-item:last-child::after {align-self: flex-start;width: 50%;}#sk-container-id-1 div.sk-parallel-item:only-child::after {width: 0;}#sk-container-id-1 div.sk-dashed-wrapped {border: 1px dashed gray;margin: 0 0.4em 0.5em 0.4em;box-sizing: border-box;padding-bottom: 0.4em;background-color: white;}#sk-container-id-1 div.sk-label label {font-family: monospace;font-weight: bold;display: inline-block;line-height: 1.2em;}#sk-container-id-1 div.sk-label-container {text-align: center;}#sk-container-id-1 div.sk-container {/* jupyter's `normalize.less` sets `[hidden] { display: none; }` but bootstrap.min.css set `[hidden] { display: none !important; }` so we also need the `!important` here to be able to override the default hidden behavior on the sphinx rendered scikit-learn.org. See: https://github.com/scikit-learn/scikit-learn/issues/21755 */display: inline-block !important;position: relative;}#sk-container-id-1 div.sk-text-repr-fallback {display: none;}</style><div id=\"sk-container-id-1\" class=\"sk-top-container\"><div class=\"sk-text-repr-fallback\"><pre>SVC()</pre><b>In a Jupyter environment, please rerun this cell to show the HTML representation or trust the notebook. <br />On GitHub, the HTML representation is unable to render, please try loading this page with nbviewer.org.</b></div><div class=\"sk-container\" hidden><div class=\"sk-item\"><div class=\"sk-estimator sk-toggleable\"><input class=\"sk-toggleable__control sk-hidden--visually\" id=\"sk-estimator-id-1\" type=\"checkbox\" checked><label for=\"sk-estimator-id-1\" class=\"sk-toggleable__label sk-toggleable__label-arrow\">SVC</label><div class=\"sk-toggleable__content\"><pre>SVC()</pre></div></div></div></div></div>"
            ]
          },
          "metadata": {},
          "execution_count": 58
        }
      ]
    },
    {
      "cell_type": "code",
      "source": [
        "y_pred=svc.predict(X_test)"
      ],
      "metadata": {
        "id": "QQhdZmTW_sNR"
      },
      "execution_count": null,
      "outputs": []
    },
    {
      "cell_type": "markdown",
      "source": [
        "**Model Accuracy**"
      ],
      "metadata": {
        "id": "zpYN6lCT_ztf"
      }
    },
    {
      "cell_type": "code",
      "source": [
        "from sklearn.metrics import confusion_matrix,classification_report"
      ],
      "metadata": {
        "id": "QSYEgwK3_3Eh"
      },
      "execution_count": null,
      "outputs": []
    },
    {
      "cell_type": "code",
      "source": [
        "confusion_matrix(y_test,y_pred)"
      ],
      "metadata": {
        "colab": {
          "base_uri": "https://localhost:8080/"
        },
        "id": "TE5Ko8xf_9-2",
        "outputId": "b2bdc989-f321-400e-c670-a1a024fc991c"
      },
      "execution_count": null,
      "outputs": [
        {
          "output_type": "execute_result",
          "data": {
            "text/plain": [
              "array([[2374,   45],\n",
              "       [ 421,  160]])"
            ]
          },
          "metadata": {},
          "execution_count": 61
        }
      ]
    },
    {
      "cell_type": "code",
      "source": [
        "print(classification_report(y_test,y_pred))"
      ],
      "metadata": {
        "colab": {
          "base_uri": "https://localhost:8080/"
        },
        "id": "jA88oCFlAQ_t",
        "outputId": "4d5ba544-bfe7-49a8-9eca-ce5cfe859e19"
      },
      "execution_count": null,
      "outputs": [
        {
          "output_type": "stream",
          "name": "stdout",
          "text": [
            "              precision    recall  f1-score   support\n",
            "\n",
            "           0       0.85      0.98      0.91      2419\n",
            "           1       0.78      0.28      0.41       581\n",
            "\n",
            "    accuracy                           0.84      3000\n",
            "   macro avg       0.81      0.63      0.66      3000\n",
            "weighted avg       0.84      0.84      0.81      3000\n",
            "\n"
          ]
        }
      ]
    },
    {
      "cell_type": "markdown",
      "source": [
        "**Hyperparameter Tunning**"
      ],
      "metadata": {
        "id": "MZH6-JQ5Aqvl"
      }
    },
    {
      "cell_type": "code",
      "source": [
        "from sklearn.model_selection import GridSearchCV"
      ],
      "metadata": {
        "id": "z5LZhDtEAwiL"
      },
      "execution_count": null,
      "outputs": []
    },
    {
      "cell_type": "code",
      "source": [
        "param_grid={'C':[0.1,1,10],'gamma': [1,0.1,0.01],'kernel': ['rbf'],'class_weight':['balanced']}"
      ],
      "metadata": {
        "id": "p_APCw2ZA3la"
      },
      "execution_count": null,
      "outputs": []
    },
    {
      "cell_type": "code",
      "source": [
        "grid=GridSearchCV(SVC(),param_grid,refit=True,verbose=2,cv=2)\n",
        "grid.fit(X_train,y_train)"
      ],
      "metadata": {
        "colab": {
          "base_uri": "https://localhost:8080/",
          "height": 446
        },
        "id": "r2UuKvCeBUqy",
        "outputId": "29677323-5b90-436c-a213-c76272b4cac5"
      },
      "execution_count": null,
      "outputs": [
        {
          "output_type": "stream",
          "name": "stdout",
          "text": [
            "Fitting 2 folds for each of 9 candidates, totalling 18 fits\n",
            "[CV] END ..C=0.1, class_weight=balanced, gamma=1, kernel=rbf; total time=   2.9s\n",
            "[CV] END ..C=0.1, class_weight=balanced, gamma=1, kernel=rbf; total time=   3.6s\n",
            "[CV] END C=0.1, class_weight=balanced, gamma=0.1, kernel=rbf; total time=   2.8s\n",
            "[CV] END C=0.1, class_weight=balanced, gamma=0.1, kernel=rbf; total time=   2.8s\n",
            "[CV] END C=0.1, class_weight=balanced, gamma=0.01, kernel=rbf; total time=   4.0s\n",
            "[CV] END C=0.1, class_weight=balanced, gamma=0.01, kernel=rbf; total time=   3.1s\n",
            "[CV] END ....C=1, class_weight=balanced, gamma=1, kernel=rbf; total time=   1.3s\n",
            "[CV] END ....C=1, class_weight=balanced, gamma=1, kernel=rbf; total time=   1.3s\n",
            "[CV] END ..C=1, class_weight=balanced, gamma=0.1, kernel=rbf; total time=   0.9s\n",
            "[CV] END ..C=1, class_weight=balanced, gamma=0.1, kernel=rbf; total time=   0.9s\n",
            "[CV] END .C=1, class_weight=balanced, gamma=0.01, kernel=rbf; total time=   1.0s\n",
            "[CV] END .C=1, class_weight=balanced, gamma=0.01, kernel=rbf; total time=   1.5s\n",
            "[CV] END ...C=10, class_weight=balanced, gamma=1, kernel=rbf; total time=   2.2s\n",
            "[CV] END ...C=10, class_weight=balanced, gamma=1, kernel=rbf; total time=   1.4s\n",
            "[CV] END .C=10, class_weight=balanced, gamma=0.1, kernel=rbf; total time=   1.0s\n",
            "[CV] END .C=10, class_weight=balanced, gamma=0.1, kernel=rbf; total time=   1.0s\n",
            "[CV] END C=10, class_weight=balanced, gamma=0.01, kernel=rbf; total time=   1.0s\n",
            "[CV] END C=10, class_weight=balanced, gamma=0.01, kernel=rbf; total time=   1.0s\n"
          ]
        },
        {
          "output_type": "execute_result",
          "data": {
            "text/plain": [
              "GridSearchCV(cv=2, estimator=SVC(),\n",
              "             param_grid={'C': [0.1, 1, 10], 'class_weight': ['balanced'],\n",
              "                         'gamma': [1, 0.1, 0.01], 'kernel': ['rbf']},\n",
              "             verbose=2)"
            ],
            "text/html": [
              "<style>#sk-container-id-2 {color: black;background-color: white;}#sk-container-id-2 pre{padding: 0;}#sk-container-id-2 div.sk-toggleable {background-color: white;}#sk-container-id-2 label.sk-toggleable__label {cursor: pointer;display: block;width: 100%;margin-bottom: 0;padding: 0.3em;box-sizing: border-box;text-align: center;}#sk-container-id-2 label.sk-toggleable__label-arrow:before {content: \"▸\";float: left;margin-right: 0.25em;color: #696969;}#sk-container-id-2 label.sk-toggleable__label-arrow:hover:before {color: black;}#sk-container-id-2 div.sk-estimator:hover label.sk-toggleable__label-arrow:before {color: black;}#sk-container-id-2 div.sk-toggleable__content {max-height: 0;max-width: 0;overflow: hidden;text-align: left;background-color: #f0f8ff;}#sk-container-id-2 div.sk-toggleable__content pre {margin: 0.2em;color: black;border-radius: 0.25em;background-color: #f0f8ff;}#sk-container-id-2 input.sk-toggleable__control:checked~div.sk-toggleable__content {max-height: 200px;max-width: 100%;overflow: auto;}#sk-container-id-2 input.sk-toggleable__control:checked~label.sk-toggleable__label-arrow:before {content: \"▾\";}#sk-container-id-2 div.sk-estimator input.sk-toggleable__control:checked~label.sk-toggleable__label {background-color: #d4ebff;}#sk-container-id-2 div.sk-label input.sk-toggleable__control:checked~label.sk-toggleable__label {background-color: #d4ebff;}#sk-container-id-2 input.sk-hidden--visually {border: 0;clip: rect(1px 1px 1px 1px);clip: rect(1px, 1px, 1px, 1px);height: 1px;margin: -1px;overflow: hidden;padding: 0;position: absolute;width: 1px;}#sk-container-id-2 div.sk-estimator {font-family: monospace;background-color: #f0f8ff;border: 1px dotted black;border-radius: 0.25em;box-sizing: border-box;margin-bottom: 0.5em;}#sk-container-id-2 div.sk-estimator:hover {background-color: #d4ebff;}#sk-container-id-2 div.sk-parallel-item::after {content: \"\";width: 100%;border-bottom: 1px solid gray;flex-grow: 1;}#sk-container-id-2 div.sk-label:hover label.sk-toggleable__label {background-color: #d4ebff;}#sk-container-id-2 div.sk-serial::before {content: \"\";position: absolute;border-left: 1px solid gray;box-sizing: border-box;top: 0;bottom: 0;left: 50%;z-index: 0;}#sk-container-id-2 div.sk-serial {display: flex;flex-direction: column;align-items: center;background-color: white;padding-right: 0.2em;padding-left: 0.2em;position: relative;}#sk-container-id-2 div.sk-item {position: relative;z-index: 1;}#sk-container-id-2 div.sk-parallel {display: flex;align-items: stretch;justify-content: center;background-color: white;position: relative;}#sk-container-id-2 div.sk-item::before, #sk-container-id-2 div.sk-parallel-item::before {content: \"\";position: absolute;border-left: 1px solid gray;box-sizing: border-box;top: 0;bottom: 0;left: 50%;z-index: -1;}#sk-container-id-2 div.sk-parallel-item {display: flex;flex-direction: column;z-index: 1;position: relative;background-color: white;}#sk-container-id-2 div.sk-parallel-item:first-child::after {align-self: flex-end;width: 50%;}#sk-container-id-2 div.sk-parallel-item:last-child::after {align-self: flex-start;width: 50%;}#sk-container-id-2 div.sk-parallel-item:only-child::after {width: 0;}#sk-container-id-2 div.sk-dashed-wrapped {border: 1px dashed gray;margin: 0 0.4em 0.5em 0.4em;box-sizing: border-box;padding-bottom: 0.4em;background-color: white;}#sk-container-id-2 div.sk-label label {font-family: monospace;font-weight: bold;display: inline-block;line-height: 1.2em;}#sk-container-id-2 div.sk-label-container {text-align: center;}#sk-container-id-2 div.sk-container {/* jupyter's `normalize.less` sets `[hidden] { display: none; }` but bootstrap.min.css set `[hidden] { display: none !important; }` so we also need the `!important` here to be able to override the default hidden behavior on the sphinx rendered scikit-learn.org. See: https://github.com/scikit-learn/scikit-learn/issues/21755 */display: inline-block !important;position: relative;}#sk-container-id-2 div.sk-text-repr-fallback {display: none;}</style><div id=\"sk-container-id-2\" class=\"sk-top-container\"><div class=\"sk-text-repr-fallback\"><pre>GridSearchCV(cv=2, estimator=SVC(),\n",
              "             param_grid={&#x27;C&#x27;: [0.1, 1, 10], &#x27;class_weight&#x27;: [&#x27;balanced&#x27;],\n",
              "                         &#x27;gamma&#x27;: [1, 0.1, 0.01], &#x27;kernel&#x27;: [&#x27;rbf&#x27;]},\n",
              "             verbose=2)</pre><b>In a Jupyter environment, please rerun this cell to show the HTML representation or trust the notebook. <br />On GitHub, the HTML representation is unable to render, please try loading this page with nbviewer.org.</b></div><div class=\"sk-container\" hidden><div class=\"sk-item sk-dashed-wrapped\"><div class=\"sk-label-container\"><div class=\"sk-label sk-toggleable\"><input class=\"sk-toggleable__control sk-hidden--visually\" id=\"sk-estimator-id-2\" type=\"checkbox\" ><label for=\"sk-estimator-id-2\" class=\"sk-toggleable__label sk-toggleable__label-arrow\">GridSearchCV</label><div class=\"sk-toggleable__content\"><pre>GridSearchCV(cv=2, estimator=SVC(),\n",
              "             param_grid={&#x27;C&#x27;: [0.1, 1, 10], &#x27;class_weight&#x27;: [&#x27;balanced&#x27;],\n",
              "                         &#x27;gamma&#x27;: [1, 0.1, 0.01], &#x27;kernel&#x27;: [&#x27;rbf&#x27;]},\n",
              "             verbose=2)</pre></div></div></div><div class=\"sk-parallel\"><div class=\"sk-parallel-item\"><div class=\"sk-item\"><div class=\"sk-label-container\"><div class=\"sk-label sk-toggleable\"><input class=\"sk-toggleable__control sk-hidden--visually\" id=\"sk-estimator-id-3\" type=\"checkbox\" ><label for=\"sk-estimator-id-3\" class=\"sk-toggleable__label sk-toggleable__label-arrow\">estimator: SVC</label><div class=\"sk-toggleable__content\"><pre>SVC()</pre></div></div></div><div class=\"sk-serial\"><div class=\"sk-item\"><div class=\"sk-estimator sk-toggleable\"><input class=\"sk-toggleable__control sk-hidden--visually\" id=\"sk-estimator-id-4\" type=\"checkbox\" ><label for=\"sk-estimator-id-4\" class=\"sk-toggleable__label sk-toggleable__label-arrow\">SVC</label><div class=\"sk-toggleable__content\"><pre>SVC()</pre></div></div></div></div></div></div></div></div></div></div>"
            ]
          },
          "metadata": {},
          "execution_count": 65
        }
      ]
    },
    {
      "cell_type": "code",
      "source": [
        "print(grid.best_estimator_)"
      ],
      "metadata": {
        "colab": {
          "base_uri": "https://localhost:8080/"
        },
        "id": "Oan9OdJqB1k-",
        "outputId": "42fdf117-27da-4ff6-8ae2-8c110969fabd"
      },
      "execution_count": null,
      "outputs": [
        {
          "output_type": "stream",
          "name": "stdout",
          "text": [
            "SVC(C=10, class_weight='balanced', gamma=1)\n"
          ]
        }
      ]
    },
    {
      "cell_type": "code",
      "source": [
        "grid_predictions=grid.predict(X_test)"
      ],
      "metadata": {
        "id": "YXdsgF1gB54O"
      },
      "execution_count": null,
      "outputs": []
    },
    {
      "cell_type": "code",
      "source": [
        "confusion_matrix(y_test,grid_predictions)"
      ],
      "metadata": {
        "colab": {
          "base_uri": "https://localhost:8080/"
        },
        "id": "E0Yl1eXeB-1D",
        "outputId": "92d03365-ddbf-468e-9a5f-e661502c51f9"
      },
      "execution_count": null,
      "outputs": [
        {
          "output_type": "execute_result",
          "data": {
            "text/plain": [
              "array([[2166,  253],\n",
              "       [ 365,  216]])"
            ]
          },
          "metadata": {},
          "execution_count": 68
        }
      ]
    },
    {
      "cell_type": "code",
      "source": [
        "print(classification_report(y_test,grid_predictions))"
      ],
      "metadata": {
        "colab": {
          "base_uri": "https://localhost:8080/"
        },
        "id": "NWHQDt-1CGFj",
        "outputId": "7a93bd20-4131-41c4-be14-8d599a152d72"
      },
      "execution_count": null,
      "outputs": [
        {
          "output_type": "stream",
          "name": "stdout",
          "text": [
            "              precision    recall  f1-score   support\n",
            "\n",
            "           0       0.86      0.90      0.88      2419\n",
            "           1       0.46      0.37      0.41       581\n",
            "\n",
            "    accuracy                           0.79      3000\n",
            "   macro avg       0.66      0.63      0.64      3000\n",
            "weighted avg       0.78      0.79      0.79      3000\n",
            "\n"
          ]
        }
      ]
    },
    {
      "cell_type": "markdown",
      "source": [
        "**Model with Random Under Sampling**"
      ],
      "metadata": {
        "id": "G9HGvCl7CZ1t"
      }
    },
    {
      "cell_type": "code",
      "source": [
        "svc_rus=SVC()"
      ],
      "metadata": {
        "id": "zAWLGCnyCdvB"
      },
      "execution_count": null,
      "outputs": []
    },
    {
      "cell_type": "code",
      "source": [
        "print(X_train_rus.shape)\n",
        "print(y_train_rus.shape)\n"
      ],
      "metadata": {
        "colab": {
          "base_uri": "https://localhost:8080/"
        },
        "id": "bk5JblQXEClt",
        "outputId": "a1c873aa-c517-4d54-90b4-4b2b82829e94"
      },
      "execution_count": null,
      "outputs": [
        {
          "output_type": "stream",
          "name": "stdout",
          "text": [
            "(2851, 11)\n",
            "(2851,)\n"
          ]
        }
      ]
    },
    {
      "cell_type": "code",
      "source": [
        "\n",
        "from sklearn.utils import resample\n",
        "y_train_rus = resample(y_train_rus, n_samples=X_train_rus.shape[0], random_state=42)\n"
      ],
      "metadata": {
        "id": "hDjlN_1nEEe2"
      },
      "execution_count": null,
      "outputs": []
    },
    {
      "cell_type": "code",
      "source": [
        "\n",
        "X_train_rus = X_train_rus[:y_train_rus.shape[0]]\n"
      ],
      "metadata": {
        "id": "HAvP7Kx-EKEv"
      },
      "execution_count": null,
      "outputs": []
    },
    {
      "cell_type": "code",
      "source": [
        "print(X_train_rus.shape)\n",
        "print(y_train_rus.shape)\n"
      ],
      "metadata": {
        "colab": {
          "base_uri": "https://localhost:8080/"
        },
        "id": "YxCesaruEPdN",
        "outputId": "87a60b65-b728-4beb-975c-ddd14136db5c"
      },
      "execution_count": null,
      "outputs": [
        {
          "output_type": "stream",
          "name": "stdout",
          "text": [
            "(2851, 11)\n",
            "(2851,)\n"
          ]
        }
      ]
    },
    {
      "cell_type": "code",
      "source": [
        "svc_rus.fit(X_train_rus, y_train_rus)\n"
      ],
      "metadata": {
        "colab": {
          "base_uri": "https://localhost:8080/",
          "height": 74
        },
        "id": "QCuqtNRbEVCQ",
        "outputId": "101f129f-aa3f-4ee3-d155-5c9e61c875f1"
      },
      "execution_count": null,
      "outputs": [
        {
          "output_type": "execute_result",
          "data": {
            "text/plain": [
              "SVC()"
            ],
            "text/html": [
              "<style>#sk-container-id-3 {color: black;background-color: white;}#sk-container-id-3 pre{padding: 0;}#sk-container-id-3 div.sk-toggleable {background-color: white;}#sk-container-id-3 label.sk-toggleable__label {cursor: pointer;display: block;width: 100%;margin-bottom: 0;padding: 0.3em;box-sizing: border-box;text-align: center;}#sk-container-id-3 label.sk-toggleable__label-arrow:before {content: \"▸\";float: left;margin-right: 0.25em;color: #696969;}#sk-container-id-3 label.sk-toggleable__label-arrow:hover:before {color: black;}#sk-container-id-3 div.sk-estimator:hover label.sk-toggleable__label-arrow:before {color: black;}#sk-container-id-3 div.sk-toggleable__content {max-height: 0;max-width: 0;overflow: hidden;text-align: left;background-color: #f0f8ff;}#sk-container-id-3 div.sk-toggleable__content pre {margin: 0.2em;color: black;border-radius: 0.25em;background-color: #f0f8ff;}#sk-container-id-3 input.sk-toggleable__control:checked~div.sk-toggleable__content {max-height: 200px;max-width: 100%;overflow: auto;}#sk-container-id-3 input.sk-toggleable__control:checked~label.sk-toggleable__label-arrow:before {content: \"▾\";}#sk-container-id-3 div.sk-estimator input.sk-toggleable__control:checked~label.sk-toggleable__label {background-color: #d4ebff;}#sk-container-id-3 div.sk-label input.sk-toggleable__control:checked~label.sk-toggleable__label {background-color: #d4ebff;}#sk-container-id-3 input.sk-hidden--visually {border: 0;clip: rect(1px 1px 1px 1px);clip: rect(1px, 1px, 1px, 1px);height: 1px;margin: -1px;overflow: hidden;padding: 0;position: absolute;width: 1px;}#sk-container-id-3 div.sk-estimator {font-family: monospace;background-color: #f0f8ff;border: 1px dotted black;border-radius: 0.25em;box-sizing: border-box;margin-bottom: 0.5em;}#sk-container-id-3 div.sk-estimator:hover {background-color: #d4ebff;}#sk-container-id-3 div.sk-parallel-item::after {content: \"\";width: 100%;border-bottom: 1px solid gray;flex-grow: 1;}#sk-container-id-3 div.sk-label:hover label.sk-toggleable__label {background-color: #d4ebff;}#sk-container-id-3 div.sk-serial::before {content: \"\";position: absolute;border-left: 1px solid gray;box-sizing: border-box;top: 0;bottom: 0;left: 50%;z-index: 0;}#sk-container-id-3 div.sk-serial {display: flex;flex-direction: column;align-items: center;background-color: white;padding-right: 0.2em;padding-left: 0.2em;position: relative;}#sk-container-id-3 div.sk-item {position: relative;z-index: 1;}#sk-container-id-3 div.sk-parallel {display: flex;align-items: stretch;justify-content: center;background-color: white;position: relative;}#sk-container-id-3 div.sk-item::before, #sk-container-id-3 div.sk-parallel-item::before {content: \"\";position: absolute;border-left: 1px solid gray;box-sizing: border-box;top: 0;bottom: 0;left: 50%;z-index: -1;}#sk-container-id-3 div.sk-parallel-item {display: flex;flex-direction: column;z-index: 1;position: relative;background-color: white;}#sk-container-id-3 div.sk-parallel-item:first-child::after {align-self: flex-end;width: 50%;}#sk-container-id-3 div.sk-parallel-item:last-child::after {align-self: flex-start;width: 50%;}#sk-container-id-3 div.sk-parallel-item:only-child::after {width: 0;}#sk-container-id-3 div.sk-dashed-wrapped {border: 1px dashed gray;margin: 0 0.4em 0.5em 0.4em;box-sizing: border-box;padding-bottom: 0.4em;background-color: white;}#sk-container-id-3 div.sk-label label {font-family: monospace;font-weight: bold;display: inline-block;line-height: 1.2em;}#sk-container-id-3 div.sk-label-container {text-align: center;}#sk-container-id-3 div.sk-container {/* jupyter's `normalize.less` sets `[hidden] { display: none; }` but bootstrap.min.css set `[hidden] { display: none !important; }` so we also need the `!important` here to be able to override the default hidden behavior on the sphinx rendered scikit-learn.org. See: https://github.com/scikit-learn/scikit-learn/issues/21755 */display: inline-block !important;position: relative;}#sk-container-id-3 div.sk-text-repr-fallback {display: none;}</style><div id=\"sk-container-id-3\" class=\"sk-top-container\"><div class=\"sk-text-repr-fallback\"><pre>SVC()</pre><b>In a Jupyter environment, please rerun this cell to show the HTML representation or trust the notebook. <br />On GitHub, the HTML representation is unable to render, please try loading this page with nbviewer.org.</b></div><div class=\"sk-container\" hidden><div class=\"sk-item\"><div class=\"sk-estimator sk-toggleable\"><input class=\"sk-toggleable__control sk-hidden--visually\" id=\"sk-estimator-id-5\" type=\"checkbox\" checked><label for=\"sk-estimator-id-5\" class=\"sk-toggleable__label sk-toggleable__label-arrow\">SVC</label><div class=\"sk-toggleable__content\"><pre>SVC()</pre></div></div></div></div></div>"
            ]
          },
          "metadata": {},
          "execution_count": 75
        }
      ]
    },
    {
      "cell_type": "code",
      "source": [
        "y_pred_rus = svc_rus.predict(X_test_rus)"
      ],
      "metadata": {
        "id": "ciYUqp1DEsnH"
      },
      "execution_count": null,
      "outputs": []
    },
    {
      "cell_type": "markdown",
      "source": [
        "**Model Accuracy**"
      ],
      "metadata": {
        "id": "dxmOJUGZHX3A"
      }
    },
    {
      "cell_type": "code",
      "source": [
        "\n",
        "len_y_test_rus = len(y_test_rus)\n",
        "len_y_pred_rus = len(y_pred_rus)\n",
        "\n",
        "print(f\"Length of y_test_rus: {len_y_test_rus}\")\n",
        "print(f\"Length of y_pred_rus: {len_y_pred_rus}\")\n"
      ],
      "metadata": {
        "colab": {
          "base_uri": "https://localhost:8080/"
        },
        "id": "WYPazMSiIAg8",
        "outputId": "61304a3f-f3dc-429d-e38c-01960f96d208"
      },
      "execution_count": null,
      "outputs": [
        {
          "output_type": "stream",
          "name": "stdout",
          "text": [
            "Length of y_test_rus: 1223\n",
            "Length of y_pred_rus: 1223\n"
          ]
        }
      ]
    },
    {
      "cell_type": "code",
      "source": [
        "from sklearn.model_selection import train_test_split\n",
        "X_train, X_test, y_train, y_test = train_test_split(X, y, test_size=0.2, random_state=42)\n",
        "y_test_rus = y_test\n"
      ],
      "metadata": {
        "id": "XgzQmt3QIC2j"
      },
      "execution_count": null,
      "outputs": []
    },
    {
      "cell_type": "code",
      "source": [
        "from sklearn.model_selection import train_test_split\n",
        "from sklearn.linear_model import LogisticRegression\n",
        "from sklearn.metrics import confusion_matrix\n",
        "import numpy as np\n",
        "X = np.random.rand(1000, 10)\n",
        "y = np.random.randint(0, 2, 1000)\n",
        "\n",
        "X_train, X_test, y_train, y_test = train_test_split(X, y, test_size=0.2, random_state=42)\n",
        "\n",
        "\n",
        "model = LogisticRegression()\n",
        "\n",
        "model.fit(X_train, y_train)\n",
        "\n"
      ],
      "metadata": {
        "colab": {
          "base_uri": "https://localhost:8080/",
          "height": 74
        },
        "id": "WTJiSziuIK-s",
        "outputId": "8479ce75-a561-4dad-a748-e332cc8d7fea"
      },
      "execution_count": null,
      "outputs": [
        {
          "output_type": "execute_result",
          "data": {
            "text/plain": [
              "LogisticRegression()"
            ],
            "text/html": [
              "<style>#sk-container-id-4 {color: black;background-color: white;}#sk-container-id-4 pre{padding: 0;}#sk-container-id-4 div.sk-toggleable {background-color: white;}#sk-container-id-4 label.sk-toggleable__label {cursor: pointer;display: block;width: 100%;margin-bottom: 0;padding: 0.3em;box-sizing: border-box;text-align: center;}#sk-container-id-4 label.sk-toggleable__label-arrow:before {content: \"▸\";float: left;margin-right: 0.25em;color: #696969;}#sk-container-id-4 label.sk-toggleable__label-arrow:hover:before {color: black;}#sk-container-id-4 div.sk-estimator:hover label.sk-toggleable__label-arrow:before {color: black;}#sk-container-id-4 div.sk-toggleable__content {max-height: 0;max-width: 0;overflow: hidden;text-align: left;background-color: #f0f8ff;}#sk-container-id-4 div.sk-toggleable__content pre {margin: 0.2em;color: black;border-radius: 0.25em;background-color: #f0f8ff;}#sk-container-id-4 input.sk-toggleable__control:checked~div.sk-toggleable__content {max-height: 200px;max-width: 100%;overflow: auto;}#sk-container-id-4 input.sk-toggleable__control:checked~label.sk-toggleable__label-arrow:before {content: \"▾\";}#sk-container-id-4 div.sk-estimator input.sk-toggleable__control:checked~label.sk-toggleable__label {background-color: #d4ebff;}#sk-container-id-4 div.sk-label input.sk-toggleable__control:checked~label.sk-toggleable__label {background-color: #d4ebff;}#sk-container-id-4 input.sk-hidden--visually {border: 0;clip: rect(1px 1px 1px 1px);clip: rect(1px, 1px, 1px, 1px);height: 1px;margin: -1px;overflow: hidden;padding: 0;position: absolute;width: 1px;}#sk-container-id-4 div.sk-estimator {font-family: monospace;background-color: #f0f8ff;border: 1px dotted black;border-radius: 0.25em;box-sizing: border-box;margin-bottom: 0.5em;}#sk-container-id-4 div.sk-estimator:hover {background-color: #d4ebff;}#sk-container-id-4 div.sk-parallel-item::after {content: \"\";width: 100%;border-bottom: 1px solid gray;flex-grow: 1;}#sk-container-id-4 div.sk-label:hover label.sk-toggleable__label {background-color: #d4ebff;}#sk-container-id-4 div.sk-serial::before {content: \"\";position: absolute;border-left: 1px solid gray;box-sizing: border-box;top: 0;bottom: 0;left: 50%;z-index: 0;}#sk-container-id-4 div.sk-serial {display: flex;flex-direction: column;align-items: center;background-color: white;padding-right: 0.2em;padding-left: 0.2em;position: relative;}#sk-container-id-4 div.sk-item {position: relative;z-index: 1;}#sk-container-id-4 div.sk-parallel {display: flex;align-items: stretch;justify-content: center;background-color: white;position: relative;}#sk-container-id-4 div.sk-item::before, #sk-container-id-4 div.sk-parallel-item::before {content: \"\";position: absolute;border-left: 1px solid gray;box-sizing: border-box;top: 0;bottom: 0;left: 50%;z-index: -1;}#sk-container-id-4 div.sk-parallel-item {display: flex;flex-direction: column;z-index: 1;position: relative;background-color: white;}#sk-container-id-4 div.sk-parallel-item:first-child::after {align-self: flex-end;width: 50%;}#sk-container-id-4 div.sk-parallel-item:last-child::after {align-self: flex-start;width: 50%;}#sk-container-id-4 div.sk-parallel-item:only-child::after {width: 0;}#sk-container-id-4 div.sk-dashed-wrapped {border: 1px dashed gray;margin: 0 0.4em 0.5em 0.4em;box-sizing: border-box;padding-bottom: 0.4em;background-color: white;}#sk-container-id-4 div.sk-label label {font-family: monospace;font-weight: bold;display: inline-block;line-height: 1.2em;}#sk-container-id-4 div.sk-label-container {text-align: center;}#sk-container-id-4 div.sk-container {/* jupyter's `normalize.less` sets `[hidden] { display: none; }` but bootstrap.min.css set `[hidden] { display: none !important; }` so we also need the `!important` here to be able to override the default hidden behavior on the sphinx rendered scikit-learn.org. See: https://github.com/scikit-learn/scikit-learn/issues/21755 */display: inline-block !important;position: relative;}#sk-container-id-4 div.sk-text-repr-fallback {display: none;}</style><div id=\"sk-container-id-4\" class=\"sk-top-container\"><div class=\"sk-text-repr-fallback\"><pre>LogisticRegression()</pre><b>In a Jupyter environment, please rerun this cell to show the HTML representation or trust the notebook. <br />On GitHub, the HTML representation is unable to render, please try loading this page with nbviewer.org.</b></div><div class=\"sk-container\" hidden><div class=\"sk-item\"><div class=\"sk-estimator sk-toggleable\"><input class=\"sk-toggleable__control sk-hidden--visually\" id=\"sk-estimator-id-6\" type=\"checkbox\" checked><label for=\"sk-estimator-id-6\" class=\"sk-toggleable__label sk-toggleable__label-arrow\">LogisticRegression</label><div class=\"sk-toggleable__content\"><pre>LogisticRegression()</pre></div></div></div></div></div>"
            ]
          },
          "metadata": {},
          "execution_count": 79
        }
      ]
    },
    {
      "cell_type": "code",
      "source": [
        "\n",
        "y_pred_rus = model.predict(X_test)\n",
        "\n",
        "print(f\"Shape of y_pred_rus: {y_pred_rus.shape}\")\n"
      ],
      "metadata": {
        "colab": {
          "base_uri": "https://localhost:8080/"
        },
        "id": "ELt6O5cpI_B5",
        "outputId": "55a15725-b99e-4da6-d5a0-a635db4a19de"
      },
      "execution_count": null,
      "outputs": [
        {
          "output_type": "stream",
          "name": "stdout",
          "text": [
            "Shape of y_pred_rus: (200,)\n"
          ]
        }
      ]
    },
    {
      "cell_type": "code",
      "source": [
        "\n",
        "cm = confusion_matrix(y_test, y_pred_rus)\n",
        "print(cm)\n"
      ],
      "metadata": {
        "colab": {
          "base_uri": "https://localhost:8080/"
        },
        "id": "FmQe0y91JFUH",
        "outputId": "258e36cd-fea7-4423-ac2f-bd87276672eb"
      },
      "execution_count": null,
      "outputs": [
        {
          "output_type": "stream",
          "name": "stdout",
          "text": [
            "[[22 75]\n",
            " [31 72]]\n"
          ]
        }
      ]
    },
    {
      "cell_type": "code",
      "source": [
        "y_pred_rus = model.predict(X_test)\n",
        "print(f\"Shape of y_pred_rus: {y_pred_rus.shape}\")"
      ],
      "metadata": {
        "colab": {
          "base_uri": "https://localhost:8080/"
        },
        "id": "KJggtVsSJJtW",
        "outputId": "1c852402-02d9-42b9-c287-c6ed3209b768"
      },
      "execution_count": null,
      "outputs": [
        {
          "output_type": "stream",
          "name": "stdout",
          "text": [
            "Shape of y_pred_rus: (200,)\n"
          ]
        }
      ]
    },
    {
      "cell_type": "code",
      "source": [
        "print(len(y_test_rus))\n",
        "print(len(y_pred_rus))\n"
      ],
      "metadata": {
        "colab": {
          "base_uri": "https://localhost:8080/"
        },
        "id": "2_uNdUb1Pq-q",
        "outputId": "84121409-2a3b-403c-eba1-3e8fb43cb25a"
      },
      "execution_count": null,
      "outputs": [
        {
          "output_type": "stream",
          "name": "stdout",
          "text": [
            "2000\n",
            "200\n"
          ]
        }
      ]
    },
    {
      "cell_type": "code",
      "source": [
        "\n",
        "y_test_rus = y_test_rus[:len(y_pred_rus)]\n"
      ],
      "metadata": {
        "id": "dMQjkFXoPsgN"
      },
      "execution_count": null,
      "outputs": []
    },
    {
      "cell_type": "code",
      "source": [
        "from sklearn.metrics import confusion_matrix\n",
        "cm = confusion_matrix(y_test_rus, y_pred_rus)\n",
        "print(cm)\n"
      ],
      "metadata": {
        "colab": {
          "base_uri": "https://localhost:8080/"
        },
        "id": "IrMhJdYgPxO-",
        "outputId": "b11ebd41-f647-485d-ae66-244730eead2e"
      },
      "execution_count": null,
      "outputs": [
        {
          "output_type": "stream",
          "name": "stdout",
          "text": [
            "[[ 45 115]\n",
            " [  8  32]]\n"
          ]
        }
      ]
    },
    {
      "cell_type": "code",
      "source": [
        "print(classification_report(y_test_rus, y_pred_rus))"
      ],
      "metadata": {
        "colab": {
          "base_uri": "https://localhost:8080/"
        },
        "id": "e5y36XbFP1pY",
        "outputId": "19de9a2e-4676-4c0f-c502-6989b4ade284"
      },
      "execution_count": null,
      "outputs": [
        {
          "output_type": "stream",
          "name": "stdout",
          "text": [
            "              precision    recall  f1-score   support\n",
            "\n",
            "           0       0.85      0.28      0.42       160\n",
            "           1       0.22      0.80      0.34        40\n",
            "\n",
            "    accuracy                           0.38       200\n",
            "   macro avg       0.53      0.54      0.38       200\n",
            "weighted avg       0.72      0.39      0.41       200\n",
            "\n"
          ]
        }
      ]
    },
    {
      "cell_type": "markdown",
      "source": [
        "**Hyperparamter Tuning**"
      ],
      "metadata": {
        "id": "CQw9TxAmQBzv"
      }
    },
    {
      "cell_type": "code",
      "source": [
        "param_grid = {'C': [0.1,1,10],\n",
        "              'gamma': [1,0.1,0.01],\n",
        "              'kernel': ['rbf'],\n",
        "              'class_weight': ['balanced']}"
      ],
      "metadata": {
        "id": "UoQ09l6aQFx8"
      },
      "execution_count": null,
      "outputs": []
    },
    {
      "cell_type": "code",
      "source": [
        "grid_rus = GridSearchCV(SVC(), param_grid, refit=True, verbose=2, cv=2)\n",
        "grid_rus.fit(X_train_rus,y_train_rus)"
      ],
      "metadata": {
        "colab": {
          "base_uri": "https://localhost:8080/",
          "height": 446
        },
        "id": "SszgnhmnQdWs",
        "outputId": "d5ce466c-e75f-4ab2-8f2a-5f9fba00c6eb"
      },
      "execution_count": null,
      "outputs": [
        {
          "output_type": "stream",
          "name": "stdout",
          "text": [
            "Fitting 2 folds for each of 9 candidates, totalling 18 fits\n",
            "[CV] END ..C=0.1, class_weight=balanced, gamma=1, kernel=rbf; total time=   0.2s\n",
            "[CV] END ..C=0.1, class_weight=balanced, gamma=1, kernel=rbf; total time=   0.2s\n",
            "[CV] END C=0.1, class_weight=balanced, gamma=0.1, kernel=rbf; total time=   0.2s\n",
            "[CV] END C=0.1, class_weight=balanced, gamma=0.1, kernel=rbf; total time=   0.3s\n",
            "[CV] END C=0.1, class_weight=balanced, gamma=0.01, kernel=rbf; total time=   0.2s\n",
            "[CV] END C=0.1, class_weight=balanced, gamma=0.01, kernel=rbf; total time=   0.2s\n",
            "[CV] END ....C=1, class_weight=balanced, gamma=1, kernel=rbf; total time=   0.2s\n",
            "[CV] END ....C=1, class_weight=balanced, gamma=1, kernel=rbf; total time=   0.2s\n",
            "[CV] END ..C=1, class_weight=balanced, gamma=0.1, kernel=rbf; total time=   0.2s\n",
            "[CV] END ..C=1, class_weight=balanced, gamma=0.1, kernel=rbf; total time=   0.2s\n",
            "[CV] END .C=1, class_weight=balanced, gamma=0.01, kernel=rbf; total time=   0.2s\n",
            "[CV] END .C=1, class_weight=balanced, gamma=0.01, kernel=rbf; total time=   0.2s\n",
            "[CV] END ...C=10, class_weight=balanced, gamma=1, kernel=rbf; total time=   0.3s\n",
            "[CV] END ...C=10, class_weight=balanced, gamma=1, kernel=rbf; total time=   0.2s\n",
            "[CV] END .C=10, class_weight=balanced, gamma=0.1, kernel=rbf; total time=   0.2s\n",
            "[CV] END .C=10, class_weight=balanced, gamma=0.1, kernel=rbf; total time=   0.2s\n",
            "[CV] END C=10, class_weight=balanced, gamma=0.01, kernel=rbf; total time=   0.2s\n",
            "[CV] END C=10, class_weight=balanced, gamma=0.01, kernel=rbf; total time=   0.2s\n"
          ]
        },
        {
          "output_type": "execute_result",
          "data": {
            "text/plain": [
              "GridSearchCV(cv=2, estimator=SVC(),\n",
              "             param_grid={'C': [0.1, 1, 10], 'class_weight': ['balanced'],\n",
              "                         'gamma': [1, 0.1, 0.01], 'kernel': ['rbf']},\n",
              "             verbose=2)"
            ],
            "text/html": [
              "<style>#sk-container-id-5 {color: black;background-color: white;}#sk-container-id-5 pre{padding: 0;}#sk-container-id-5 div.sk-toggleable {background-color: white;}#sk-container-id-5 label.sk-toggleable__label {cursor: pointer;display: block;width: 100%;margin-bottom: 0;padding: 0.3em;box-sizing: border-box;text-align: center;}#sk-container-id-5 label.sk-toggleable__label-arrow:before {content: \"▸\";float: left;margin-right: 0.25em;color: #696969;}#sk-container-id-5 label.sk-toggleable__label-arrow:hover:before {color: black;}#sk-container-id-5 div.sk-estimator:hover label.sk-toggleable__label-arrow:before {color: black;}#sk-container-id-5 div.sk-toggleable__content {max-height: 0;max-width: 0;overflow: hidden;text-align: left;background-color: #f0f8ff;}#sk-container-id-5 div.sk-toggleable__content pre {margin: 0.2em;color: black;border-radius: 0.25em;background-color: #f0f8ff;}#sk-container-id-5 input.sk-toggleable__control:checked~div.sk-toggleable__content {max-height: 200px;max-width: 100%;overflow: auto;}#sk-container-id-5 input.sk-toggleable__control:checked~label.sk-toggleable__label-arrow:before {content: \"▾\";}#sk-container-id-5 div.sk-estimator input.sk-toggleable__control:checked~label.sk-toggleable__label {background-color: #d4ebff;}#sk-container-id-5 div.sk-label input.sk-toggleable__control:checked~label.sk-toggleable__label {background-color: #d4ebff;}#sk-container-id-5 input.sk-hidden--visually {border: 0;clip: rect(1px 1px 1px 1px);clip: rect(1px, 1px, 1px, 1px);height: 1px;margin: -1px;overflow: hidden;padding: 0;position: absolute;width: 1px;}#sk-container-id-5 div.sk-estimator {font-family: monospace;background-color: #f0f8ff;border: 1px dotted black;border-radius: 0.25em;box-sizing: border-box;margin-bottom: 0.5em;}#sk-container-id-5 div.sk-estimator:hover {background-color: #d4ebff;}#sk-container-id-5 div.sk-parallel-item::after {content: \"\";width: 100%;border-bottom: 1px solid gray;flex-grow: 1;}#sk-container-id-5 div.sk-label:hover label.sk-toggleable__label {background-color: #d4ebff;}#sk-container-id-5 div.sk-serial::before {content: \"\";position: absolute;border-left: 1px solid gray;box-sizing: border-box;top: 0;bottom: 0;left: 50%;z-index: 0;}#sk-container-id-5 div.sk-serial {display: flex;flex-direction: column;align-items: center;background-color: white;padding-right: 0.2em;padding-left: 0.2em;position: relative;}#sk-container-id-5 div.sk-item {position: relative;z-index: 1;}#sk-container-id-5 div.sk-parallel {display: flex;align-items: stretch;justify-content: center;background-color: white;position: relative;}#sk-container-id-5 div.sk-item::before, #sk-container-id-5 div.sk-parallel-item::before {content: \"\";position: absolute;border-left: 1px solid gray;box-sizing: border-box;top: 0;bottom: 0;left: 50%;z-index: -1;}#sk-container-id-5 div.sk-parallel-item {display: flex;flex-direction: column;z-index: 1;position: relative;background-color: white;}#sk-container-id-5 div.sk-parallel-item:first-child::after {align-self: flex-end;width: 50%;}#sk-container-id-5 div.sk-parallel-item:last-child::after {align-self: flex-start;width: 50%;}#sk-container-id-5 div.sk-parallel-item:only-child::after {width: 0;}#sk-container-id-5 div.sk-dashed-wrapped {border: 1px dashed gray;margin: 0 0.4em 0.5em 0.4em;box-sizing: border-box;padding-bottom: 0.4em;background-color: white;}#sk-container-id-5 div.sk-label label {font-family: monospace;font-weight: bold;display: inline-block;line-height: 1.2em;}#sk-container-id-5 div.sk-label-container {text-align: center;}#sk-container-id-5 div.sk-container {/* jupyter's `normalize.less` sets `[hidden] { display: none; }` but bootstrap.min.css set `[hidden] { display: none !important; }` so we also need the `!important` here to be able to override the default hidden behavior on the sphinx rendered scikit-learn.org. See: https://github.com/scikit-learn/scikit-learn/issues/21755 */display: inline-block !important;position: relative;}#sk-container-id-5 div.sk-text-repr-fallback {display: none;}</style><div id=\"sk-container-id-5\" class=\"sk-top-container\"><div class=\"sk-text-repr-fallback\"><pre>GridSearchCV(cv=2, estimator=SVC(),\n",
              "             param_grid={&#x27;C&#x27;: [0.1, 1, 10], &#x27;class_weight&#x27;: [&#x27;balanced&#x27;],\n",
              "                         &#x27;gamma&#x27;: [1, 0.1, 0.01], &#x27;kernel&#x27;: [&#x27;rbf&#x27;]},\n",
              "             verbose=2)</pre><b>In a Jupyter environment, please rerun this cell to show the HTML representation or trust the notebook. <br />On GitHub, the HTML representation is unable to render, please try loading this page with nbviewer.org.</b></div><div class=\"sk-container\" hidden><div class=\"sk-item sk-dashed-wrapped\"><div class=\"sk-label-container\"><div class=\"sk-label sk-toggleable\"><input class=\"sk-toggleable__control sk-hidden--visually\" id=\"sk-estimator-id-7\" type=\"checkbox\" ><label for=\"sk-estimator-id-7\" class=\"sk-toggleable__label sk-toggleable__label-arrow\">GridSearchCV</label><div class=\"sk-toggleable__content\"><pre>GridSearchCV(cv=2, estimator=SVC(),\n",
              "             param_grid={&#x27;C&#x27;: [0.1, 1, 10], &#x27;class_weight&#x27;: [&#x27;balanced&#x27;],\n",
              "                         &#x27;gamma&#x27;: [1, 0.1, 0.01], &#x27;kernel&#x27;: [&#x27;rbf&#x27;]},\n",
              "             verbose=2)</pre></div></div></div><div class=\"sk-parallel\"><div class=\"sk-parallel-item\"><div class=\"sk-item\"><div class=\"sk-label-container\"><div class=\"sk-label sk-toggleable\"><input class=\"sk-toggleable__control sk-hidden--visually\" id=\"sk-estimator-id-8\" type=\"checkbox\" ><label for=\"sk-estimator-id-8\" class=\"sk-toggleable__label sk-toggleable__label-arrow\">estimator: SVC</label><div class=\"sk-toggleable__content\"><pre>SVC()</pre></div></div></div><div class=\"sk-serial\"><div class=\"sk-item\"><div class=\"sk-estimator sk-toggleable\"><input class=\"sk-toggleable__control sk-hidden--visually\" id=\"sk-estimator-id-9\" type=\"checkbox\" ><label for=\"sk-estimator-id-9\" class=\"sk-toggleable__label sk-toggleable__label-arrow\">SVC</label><div class=\"sk-toggleable__content\"><pre>SVC()</pre></div></div></div></div></div></div></div></div></div></div>"
            ]
          },
          "metadata": {},
          "execution_count": 88
        }
      ]
    },
    {
      "cell_type": "code",
      "source": [
        "print(grid_rus.best_estimator_)"
      ],
      "metadata": {
        "colab": {
          "base_uri": "https://localhost:8080/"
        },
        "id": "PQomx7g0RtdX",
        "outputId": "ed977125-ab2f-4d04-bc65-02f9c93da25d"
      },
      "execution_count": null,
      "outputs": [
        {
          "output_type": "stream",
          "name": "stdout",
          "text": [
            "SVC(C=10, class_weight='balanced', gamma=1)\n"
          ]
        }
      ]
    },
    {
      "cell_type": "code",
      "source": [
        "grid__predictions_rus=grid_rus.predict(X_test_rus)"
      ],
      "metadata": {
        "id": "0KR9q7vaRz0W"
      },
      "execution_count": null,
      "outputs": []
    },
    {
      "cell_type": "code",
      "source": [
        "import pandas as pd\n",
        "column_names = ['column1', 'column2', 'column3', 'column4', 'column5', 'column6', 'column7', 'column8', 'column9', 'column10']\n",
        "X_train_df = pd.DataFrame(X_train, columns=column_names)\n",
        "expected_feature_names = X_train_df.columns.tolist()\n"
      ],
      "metadata": {
        "id": "2VKn8Vq1S-pZ"
      },
      "execution_count": null,
      "outputs": []
    },
    {
      "cell_type": "code",
      "source": [
        "grid_predictions_rus = [...]\n"
      ],
      "metadata": {
        "id": "lf0uPXytwoHI"
      },
      "execution_count": null,
      "outputs": []
    },
    {
      "cell_type": "code",
      "source": [
        "from sklearn.metrics import confusion_matrix\n",
        "try:\n",
        "    print(f\"Length of y_test_rus: {len(y_test_rus)}\")\n",
        "    print(f\"Length of grid_predictions_rus: {len(grid_predictions_rus)}\")\n",
        "\n",
        "    if len(y_test_rus) == len(grid_predictions_rus):\n",
        "        confusion_mtx = confusion_matrix(y_test_rus, grid_predictions_rus)\n",
        "        print(confusion_mtx)\n",
        "    else:\n",
        "        print(\"Error: The number of samples in y_test_rus and grid_predictions_rus do not match.\")\n",
        "except NameError as e:\n",
        "    print(f\"NameError: {e}\")\n",
        "    print(\"Make sure that 'grid_predictions_rus' is defined before running this code.\")\n"
      ],
      "metadata": {
        "colab": {
          "base_uri": "https://localhost:8080/"
        },
        "id": "GXbQZy92ViXX",
        "outputId": "c7a4e98d-70d5-44c9-8858-4630245f8c02"
      },
      "execution_count": null,
      "outputs": [
        {
          "output_type": "stream",
          "name": "stdout",
          "text": [
            "Length of y_test_rus: 200\n",
            "Length of grid_predictions_rus: 1\n",
            "Error: The number of samples in y_test_rus and grid_predictions_rus do not match.\n"
          ]
        }
      ]
    },
    {
      "cell_type": "code",
      "source": [
        "\n",
        "print(f\"Length of y_test_rus: {len(y_test_rus)}\")\n",
        "print(f\"Length of grid_predictions_rus: {len(grid_predictions_rus)}\")\n",
        "\n",
        "\n",
        "if len(y_test_rus) == len(grid_predictions_rus):\n",
        "    from sklearn.metrics import classification_report\n",
        "    print(classification_report(y_test_rus, grid_predictions_rus))\n",
        "else:\n",
        "    print(\"Error: The number of samples in y_test_rus and grid_predictions_rus do not match.\")\n",
        "    print(\"y_test_rus samples:\", y_test_rus)\n",
        "    print(\"grid_predictions_rus samples:\", grid_predictions_rus)\n"
      ],
      "metadata": {
        "colab": {
          "base_uri": "https://localhost:8080/"
        },
        "id": "sIw68EQnWtIZ",
        "outputId": "b04b573d-7406-4102-e268-ada188731028"
      },
      "execution_count": null,
      "outputs": [
        {
          "output_type": "stream",
          "name": "stdout",
          "text": [
            "Length of y_test_rus: 200\n",
            "Length of grid_predictions_rus: 1\n",
            "Error: The number of samples in y_test_rus and grid_predictions_rus do not match.\n",
            "y_test_rus samples: CustomerId\n",
            "15687492    0\n",
            "15736963    0\n",
            "15721730    0\n",
            "15762134    0\n",
            "15648898    0\n",
            "           ..\n",
            "15812210    1\n",
            "15794870    0\n",
            "15672821    0\n",
            "15805955    0\n",
            "15655590    0\n",
            "Name: Churn, Length: 200, dtype: int64\n",
            "grid_predictions_rus samples: [Ellipsis]\n"
          ]
        }
      ]
    },
    {
      "cell_type": "markdown",
      "source": [
        "**Model with Random Over Sampling**"
      ],
      "metadata": {
        "id": "xFzW_G4EXduN"
      }
    },
    {
      "cell_type": "code",
      "source": [
        "svc_ros=SVC()"
      ],
      "metadata": {
        "id": "MUhWxR10XjJn"
      },
      "execution_count": null,
      "outputs": []
    },
    {
      "cell_type": "code",
      "source": [
        "svc_ros.fit(X_train_ros, y_train_ros)"
      ],
      "metadata": {
        "colab": {
          "base_uri": "https://localhost:8080/",
          "height": 74
        },
        "id": "lGvR9tg1XvNt",
        "outputId": "e0174055-ba47-4b0a-ed66-4e1e1811c0af"
      },
      "execution_count": null,
      "outputs": [
        {
          "output_type": "execute_result",
          "data": {
            "text/plain": [
              "SVC()"
            ],
            "text/html": [
              "<style>#sk-container-id-6 {color: black;background-color: white;}#sk-container-id-6 pre{padding: 0;}#sk-container-id-6 div.sk-toggleable {background-color: white;}#sk-container-id-6 label.sk-toggleable__label {cursor: pointer;display: block;width: 100%;margin-bottom: 0;padding: 0.3em;box-sizing: border-box;text-align: center;}#sk-container-id-6 label.sk-toggleable__label-arrow:before {content: \"▸\";float: left;margin-right: 0.25em;color: #696969;}#sk-container-id-6 label.sk-toggleable__label-arrow:hover:before {color: black;}#sk-container-id-6 div.sk-estimator:hover label.sk-toggleable__label-arrow:before {color: black;}#sk-container-id-6 div.sk-toggleable__content {max-height: 0;max-width: 0;overflow: hidden;text-align: left;background-color: #f0f8ff;}#sk-container-id-6 div.sk-toggleable__content pre {margin: 0.2em;color: black;border-radius: 0.25em;background-color: #f0f8ff;}#sk-container-id-6 input.sk-toggleable__control:checked~div.sk-toggleable__content {max-height: 200px;max-width: 100%;overflow: auto;}#sk-container-id-6 input.sk-toggleable__control:checked~label.sk-toggleable__label-arrow:before {content: \"▾\";}#sk-container-id-6 div.sk-estimator input.sk-toggleable__control:checked~label.sk-toggleable__label {background-color: #d4ebff;}#sk-container-id-6 div.sk-label input.sk-toggleable__control:checked~label.sk-toggleable__label {background-color: #d4ebff;}#sk-container-id-6 input.sk-hidden--visually {border: 0;clip: rect(1px 1px 1px 1px);clip: rect(1px, 1px, 1px, 1px);height: 1px;margin: -1px;overflow: hidden;padding: 0;position: absolute;width: 1px;}#sk-container-id-6 div.sk-estimator {font-family: monospace;background-color: #f0f8ff;border: 1px dotted black;border-radius: 0.25em;box-sizing: border-box;margin-bottom: 0.5em;}#sk-container-id-6 div.sk-estimator:hover {background-color: #d4ebff;}#sk-container-id-6 div.sk-parallel-item::after {content: \"\";width: 100%;border-bottom: 1px solid gray;flex-grow: 1;}#sk-container-id-6 div.sk-label:hover label.sk-toggleable__label {background-color: #d4ebff;}#sk-container-id-6 div.sk-serial::before {content: \"\";position: absolute;border-left: 1px solid gray;box-sizing: border-box;top: 0;bottom: 0;left: 50%;z-index: 0;}#sk-container-id-6 div.sk-serial {display: flex;flex-direction: column;align-items: center;background-color: white;padding-right: 0.2em;padding-left: 0.2em;position: relative;}#sk-container-id-6 div.sk-item {position: relative;z-index: 1;}#sk-container-id-6 div.sk-parallel {display: flex;align-items: stretch;justify-content: center;background-color: white;position: relative;}#sk-container-id-6 div.sk-item::before, #sk-container-id-6 div.sk-parallel-item::before {content: \"\";position: absolute;border-left: 1px solid gray;box-sizing: border-box;top: 0;bottom: 0;left: 50%;z-index: -1;}#sk-container-id-6 div.sk-parallel-item {display: flex;flex-direction: column;z-index: 1;position: relative;background-color: white;}#sk-container-id-6 div.sk-parallel-item:first-child::after {align-self: flex-end;width: 50%;}#sk-container-id-6 div.sk-parallel-item:last-child::after {align-self: flex-start;width: 50%;}#sk-container-id-6 div.sk-parallel-item:only-child::after {width: 0;}#sk-container-id-6 div.sk-dashed-wrapped {border: 1px dashed gray;margin: 0 0.4em 0.5em 0.4em;box-sizing: border-box;padding-bottom: 0.4em;background-color: white;}#sk-container-id-6 div.sk-label label {font-family: monospace;font-weight: bold;display: inline-block;line-height: 1.2em;}#sk-container-id-6 div.sk-label-container {text-align: center;}#sk-container-id-6 div.sk-container {/* jupyter's `normalize.less` sets `[hidden] { display: none; }` but bootstrap.min.css set `[hidden] { display: none !important; }` so we also need the `!important` here to be able to override the default hidden behavior on the sphinx rendered scikit-learn.org. See: https://github.com/scikit-learn/scikit-learn/issues/21755 */display: inline-block !important;position: relative;}#sk-container-id-6 div.sk-text-repr-fallback {display: none;}</style><div id=\"sk-container-id-6\" class=\"sk-top-container\"><div class=\"sk-text-repr-fallback\"><pre>SVC()</pre><b>In a Jupyter environment, please rerun this cell to show the HTML representation or trust the notebook. <br />On GitHub, the HTML representation is unable to render, please try loading this page with nbviewer.org.</b></div><div class=\"sk-container\" hidden><div class=\"sk-item\"><div class=\"sk-estimator sk-toggleable\"><input class=\"sk-toggleable__control sk-hidden--visually\" id=\"sk-estimator-id-10\" type=\"checkbox\" checked><label for=\"sk-estimator-id-10\" class=\"sk-toggleable__label sk-toggleable__label-arrow\">SVC</label><div class=\"sk-toggleable__content\"><pre>SVC()</pre></div></div></div></div></div>"
            ]
          },
          "metadata": {},
          "execution_count": 102
        }
      ]
    },
    {
      "cell_type": "code",
      "source": [
        "y_pred_ros=svc_ros.predict(X_test_ros)"
      ],
      "metadata": {
        "id": "EAImwINQX3as"
      },
      "execution_count": null,
      "outputs": []
    },
    {
      "cell_type": "markdown",
      "source": [
        "**Model Accuracy**"
      ],
      "metadata": {
        "id": "zdD9IbTjYApq"
      }
    },
    {
      "cell_type": "code",
      "source": [
        "confusion_matrix(y_test_ros, y_pred_ros)"
      ],
      "metadata": {
        "colab": {
          "base_uri": "https://localhost:8080/"
        },
        "id": "0p8O-6q4YEhC",
        "outputId": "f3abc99a-896f-4380-bc78-175248869078"
      },
      "execution_count": null,
      "outputs": [
        {
          "output_type": "execute_result",
          "data": {
            "text/plain": [
              "array([[1823,  556],\n",
              "       [ 626, 1773]])"
            ]
          },
          "metadata": {},
          "execution_count": 104
        }
      ]
    },
    {
      "cell_type": "code",
      "source": [
        "print(classification_report(y_test_ros,y_pred_ros))"
      ],
      "metadata": {
        "colab": {
          "base_uri": "https://localhost:8080/"
        },
        "id": "aU9cxZ1yYPVf",
        "outputId": "4508a516-34c9-49b9-9664-34360d6c8f95"
      },
      "execution_count": null,
      "outputs": [
        {
          "output_type": "stream",
          "name": "stdout",
          "text": [
            "              precision    recall  f1-score   support\n",
            "\n",
            "           0       0.74      0.77      0.76      2379\n",
            "           1       0.76      0.74      0.75      2399\n",
            "\n",
            "    accuracy                           0.75      4778\n",
            "   macro avg       0.75      0.75      0.75      4778\n",
            "weighted avg       0.75      0.75      0.75      4778\n",
            "\n"
          ]
        }
      ]
    },
    {
      "cell_type": "markdown",
      "source": [
        "**Hyperparameter Tuning**"
      ],
      "metadata": {
        "id": "eVB0VEgcYax0"
      }
    },
    {
      "cell_type": "code",
      "source": [
        "param_grid = {'C':[0.1,1,10],\n",
        "              'gamma': [1,0.1,0.01],\n",
        "              'kernel':['rbf'],\n",
        "              'class_weight':['balanced']}"
      ],
      "metadata": {
        "id": "Q_4BrOSSYjH1"
      },
      "execution_count": null,
      "outputs": []
    },
    {
      "cell_type": "code",
      "source": [
        "grid_ros=GridSearchCV(SVC(),param_grid, refit=True, verbose=2,cv=2)\n",
        "grid_ros.fit(X_train_ros,y_train_ros)"
      ],
      "metadata": {
        "colab": {
          "base_uri": "https://localhost:8080/",
          "height": 446
        },
        "id": "xomavWgXY09Q",
        "outputId": "a6c829ac-2633-4a30-a3ad-bcff7477017b"
      },
      "execution_count": null,
      "outputs": [
        {
          "output_type": "stream",
          "name": "stdout",
          "text": [
            "Fitting 2 folds for each of 9 candidates, totalling 18 fits\n",
            "[CV] END ..C=0.1, class_weight=balanced, gamma=1, kernel=rbf; total time=   3.8s\n",
            "[CV] END ..C=0.1, class_weight=balanced, gamma=1, kernel=rbf; total time=   4.3s\n",
            "[CV] END C=0.1, class_weight=balanced, gamma=0.1, kernel=rbf; total time=   4.0s\n",
            "[CV] END C=0.1, class_weight=balanced, gamma=0.1, kernel=rbf; total time=   3.7s\n",
            "[CV] END C=0.1, class_weight=balanced, gamma=0.01, kernel=rbf; total time=   3.1s\n",
            "[CV] END C=0.1, class_weight=balanced, gamma=0.01, kernel=rbf; total time=   4.3s\n",
            "[CV] END ....C=1, class_weight=balanced, gamma=1, kernel=rbf; total time=   3.4s\n",
            "[CV] END ....C=1, class_weight=balanced, gamma=1, kernel=rbf; total time=   3.1s\n",
            "[CV] END ..C=1, class_weight=balanced, gamma=0.1, kernel=rbf; total time=   2.4s\n",
            "[CV] END ..C=1, class_weight=balanced, gamma=0.1, kernel=rbf; total time=   3.1s\n",
            "[CV] END .C=1, class_weight=balanced, gamma=0.01, kernel=rbf; total time=   3.4s\n",
            "[CV] END .C=1, class_weight=balanced, gamma=0.01, kernel=rbf; total time=   2.6s\n",
            "[CV] END ...C=10, class_weight=balanced, gamma=1, kernel=rbf; total time=   3.4s\n",
            "[CV] END ...C=10, class_weight=balanced, gamma=1, kernel=rbf; total time=   3.3s\n",
            "[CV] END .C=10, class_weight=balanced, gamma=0.1, kernel=rbf; total time=   3.6s\n",
            "[CV] END .C=10, class_weight=balanced, gamma=0.1, kernel=rbf; total time=   2.8s\n",
            "[CV] END C=10, class_weight=balanced, gamma=0.01, kernel=rbf; total time=   2.7s\n",
            "[CV] END C=10, class_weight=balanced, gamma=0.01, kernel=rbf; total time=   2.5s\n"
          ]
        },
        {
          "output_type": "execute_result",
          "data": {
            "text/plain": [
              "GridSearchCV(cv=2, estimator=SVC(),\n",
              "             param_grid={'C': [0.1, 1, 10], 'class_weight': ['balanced'],\n",
              "                         'gamma': [1, 0.1, 0.01], 'kernel': ['rbf']},\n",
              "             verbose=2)"
            ],
            "text/html": [
              "<style>#sk-container-id-7 {color: black;background-color: white;}#sk-container-id-7 pre{padding: 0;}#sk-container-id-7 div.sk-toggleable {background-color: white;}#sk-container-id-7 label.sk-toggleable__label {cursor: pointer;display: block;width: 100%;margin-bottom: 0;padding: 0.3em;box-sizing: border-box;text-align: center;}#sk-container-id-7 label.sk-toggleable__label-arrow:before {content: \"▸\";float: left;margin-right: 0.25em;color: #696969;}#sk-container-id-7 label.sk-toggleable__label-arrow:hover:before {color: black;}#sk-container-id-7 div.sk-estimator:hover label.sk-toggleable__label-arrow:before {color: black;}#sk-container-id-7 div.sk-toggleable__content {max-height: 0;max-width: 0;overflow: hidden;text-align: left;background-color: #f0f8ff;}#sk-container-id-7 div.sk-toggleable__content pre {margin: 0.2em;color: black;border-radius: 0.25em;background-color: #f0f8ff;}#sk-container-id-7 input.sk-toggleable__control:checked~div.sk-toggleable__content {max-height: 200px;max-width: 100%;overflow: auto;}#sk-container-id-7 input.sk-toggleable__control:checked~label.sk-toggleable__label-arrow:before {content: \"▾\";}#sk-container-id-7 div.sk-estimator input.sk-toggleable__control:checked~label.sk-toggleable__label {background-color: #d4ebff;}#sk-container-id-7 div.sk-label input.sk-toggleable__control:checked~label.sk-toggleable__label {background-color: #d4ebff;}#sk-container-id-7 input.sk-hidden--visually {border: 0;clip: rect(1px 1px 1px 1px);clip: rect(1px, 1px, 1px, 1px);height: 1px;margin: -1px;overflow: hidden;padding: 0;position: absolute;width: 1px;}#sk-container-id-7 div.sk-estimator {font-family: monospace;background-color: #f0f8ff;border: 1px dotted black;border-radius: 0.25em;box-sizing: border-box;margin-bottom: 0.5em;}#sk-container-id-7 div.sk-estimator:hover {background-color: #d4ebff;}#sk-container-id-7 div.sk-parallel-item::after {content: \"\";width: 100%;border-bottom: 1px solid gray;flex-grow: 1;}#sk-container-id-7 div.sk-label:hover label.sk-toggleable__label {background-color: #d4ebff;}#sk-container-id-7 div.sk-serial::before {content: \"\";position: absolute;border-left: 1px solid gray;box-sizing: border-box;top: 0;bottom: 0;left: 50%;z-index: 0;}#sk-container-id-7 div.sk-serial {display: flex;flex-direction: column;align-items: center;background-color: white;padding-right: 0.2em;padding-left: 0.2em;position: relative;}#sk-container-id-7 div.sk-item {position: relative;z-index: 1;}#sk-container-id-7 div.sk-parallel {display: flex;align-items: stretch;justify-content: center;background-color: white;position: relative;}#sk-container-id-7 div.sk-item::before, #sk-container-id-7 div.sk-parallel-item::before {content: \"\";position: absolute;border-left: 1px solid gray;box-sizing: border-box;top: 0;bottom: 0;left: 50%;z-index: -1;}#sk-container-id-7 div.sk-parallel-item {display: flex;flex-direction: column;z-index: 1;position: relative;background-color: white;}#sk-container-id-7 div.sk-parallel-item:first-child::after {align-self: flex-end;width: 50%;}#sk-container-id-7 div.sk-parallel-item:last-child::after {align-self: flex-start;width: 50%;}#sk-container-id-7 div.sk-parallel-item:only-child::after {width: 0;}#sk-container-id-7 div.sk-dashed-wrapped {border: 1px dashed gray;margin: 0 0.4em 0.5em 0.4em;box-sizing: border-box;padding-bottom: 0.4em;background-color: white;}#sk-container-id-7 div.sk-label label {font-family: monospace;font-weight: bold;display: inline-block;line-height: 1.2em;}#sk-container-id-7 div.sk-label-container {text-align: center;}#sk-container-id-7 div.sk-container {/* jupyter's `normalize.less` sets `[hidden] { display: none; }` but bootstrap.min.css set `[hidden] { display: none !important; }` so we also need the `!important` here to be able to override the default hidden behavior on the sphinx rendered scikit-learn.org. See: https://github.com/scikit-learn/scikit-learn/issues/21755 */display: inline-block !important;position: relative;}#sk-container-id-7 div.sk-text-repr-fallback {display: none;}</style><div id=\"sk-container-id-7\" class=\"sk-top-container\"><div class=\"sk-text-repr-fallback\"><pre>GridSearchCV(cv=2, estimator=SVC(),\n",
              "             param_grid={&#x27;C&#x27;: [0.1, 1, 10], &#x27;class_weight&#x27;: [&#x27;balanced&#x27;],\n",
              "                         &#x27;gamma&#x27;: [1, 0.1, 0.01], &#x27;kernel&#x27;: [&#x27;rbf&#x27;]},\n",
              "             verbose=2)</pre><b>In a Jupyter environment, please rerun this cell to show the HTML representation or trust the notebook. <br />On GitHub, the HTML representation is unable to render, please try loading this page with nbviewer.org.</b></div><div class=\"sk-container\" hidden><div class=\"sk-item sk-dashed-wrapped\"><div class=\"sk-label-container\"><div class=\"sk-label sk-toggleable\"><input class=\"sk-toggleable__control sk-hidden--visually\" id=\"sk-estimator-id-11\" type=\"checkbox\" ><label for=\"sk-estimator-id-11\" class=\"sk-toggleable__label sk-toggleable__label-arrow\">GridSearchCV</label><div class=\"sk-toggleable__content\"><pre>GridSearchCV(cv=2, estimator=SVC(),\n",
              "             param_grid={&#x27;C&#x27;: [0.1, 1, 10], &#x27;class_weight&#x27;: [&#x27;balanced&#x27;],\n",
              "                         &#x27;gamma&#x27;: [1, 0.1, 0.01], &#x27;kernel&#x27;: [&#x27;rbf&#x27;]},\n",
              "             verbose=2)</pre></div></div></div><div class=\"sk-parallel\"><div class=\"sk-parallel-item\"><div class=\"sk-item\"><div class=\"sk-label-container\"><div class=\"sk-label sk-toggleable\"><input class=\"sk-toggleable__control sk-hidden--visually\" id=\"sk-estimator-id-12\" type=\"checkbox\" ><label for=\"sk-estimator-id-12\" class=\"sk-toggleable__label sk-toggleable__label-arrow\">estimator: SVC</label><div class=\"sk-toggleable__content\"><pre>SVC()</pre></div></div></div><div class=\"sk-serial\"><div class=\"sk-item\"><div class=\"sk-estimator sk-toggleable\"><input class=\"sk-toggleable__control sk-hidden--visually\" id=\"sk-estimator-id-13\" type=\"checkbox\" ><label for=\"sk-estimator-id-13\" class=\"sk-toggleable__label sk-toggleable__label-arrow\">SVC</label><div class=\"sk-toggleable__content\"><pre>SVC()</pre></div></div></div></div></div></div></div></div></div></div>"
            ]
          },
          "metadata": {},
          "execution_count": 107
        }
      ]
    },
    {
      "cell_type": "code",
      "source": [
        "print(grid_ros.best_estimator_)"
      ],
      "metadata": {
        "colab": {
          "base_uri": "https://localhost:8080/"
        },
        "id": "HSL7XL_SxefK",
        "outputId": "6f0febe0-d6c0-4a5e-9cab-714eefb96cd1"
      },
      "execution_count": null,
      "outputs": [
        {
          "output_type": "stream",
          "name": "stdout",
          "text": [
            "SVC(C=10, class_weight='balanced', gamma=1)\n"
          ]
        }
      ]
    },
    {
      "cell_type": "code",
      "source": [
        "grid_predictions_ros=grid_ros.predict(X_test_ros)"
      ],
      "metadata": {
        "id": "zo-b9la2xoxE"
      },
      "execution_count": null,
      "outputs": []
    },
    {
      "cell_type": "code",
      "source": [
        "from sklearn.metrics import confusion_matrix\n",
        "length_y_test_rus = len(y_test_rus)\n",
        "length_grid_predictions_rus = len(grid_predictions_rus)\n",
        "\n",
        "print(f\"Length of y_test_rus: {length_y_test_rus}\")\n",
        "print(f\"Length of grid_predictions_rus: {length_grid_predictions_rus}\")\n",
        "\n",
        "if length_y_test_rus == length_grid_predictions_rus:\n",
        "    confusion_mtx = confusion_matrix(y_test_rus, grid_predictions_rus)\n",
        "    print(confusion_mtx)\n",
        "else:\n",
        "    print(\"Error: The number of samples in y_test_rus and grid_predictions_rus do not match.\")\n",
        "    print(\"Please check the following:\")\n",
        "    print(f\"- Ensure that y_test_rus and grid_predictions_rus are correctly generated.\")\n",
        "    print(f\"- y_test_rus has {length_y_test_rus} samples while grid_predictions_rus has {length_grid_predictions_rus} samples.\")\n"
      ],
      "metadata": {
        "colab": {
          "base_uri": "https://localhost:8080/"
        },
        "id": "2yfg0feVxya4",
        "outputId": "7c174b8a-6ba8-4540-a8a8-80c4fddd6284"
      },
      "execution_count": null,
      "outputs": [
        {
          "output_type": "stream",
          "name": "stdout",
          "text": [
            "Length of y_test_rus: 200\n",
            "Length of grid_predictions_rus: 200\n",
            "[[87 73]\n",
            " [24 16]]\n"
          ]
        }
      ]
    },
    {
      "cell_type": "code",
      "source": [
        "from sklearn.metrics import confusion_matrix\n",
        "def truncate_to_same_length(arr1, arr2):\n",
        "    min_length = min(len(arr1), len(arr2))\n",
        "    return arr1[:min_length], arr2[:min_length]\n",
        "\n",
        "try:\n",
        "    length_y_test_rus = len(y_test_rus)\n",
        "    length_grid_predictions_rus = len(grid_predictions_rus)\n",
        "\n",
        "    print(f\"Length of y_test_rus: {length_y_test_rus}\")\n",
        "    print(f\"Length of grid_predictions_rus: {length_grid_predictions_rus}\")\n",
        "\n",
        "    if length_y_test_rus != length_grid_predictions_rus:\n",
        "        print(\"Lengths do not match. Truncating to match the shorter length.\")\n",
        "        y_test_rus, grid_predictions_rus = truncate_to_same_length(\n",
        "            y_test_rus, grid_predictions_rus\n",
        "        )\n",
        "\n",
        "    length_y_test_rus = len(y_test_rus)\n",
        "    length_grid_predictions_rus = len(grid_predictions_rus)\n",
        "    print(f\"Adjusted Length of y_test_rus: {length_y_test_rus}\")\n",
        "    print(f\"Adjusted Length of grid_predictions_rus: {length_grid_predictions_rus}\")\n",
        "    confusion_mtx = confusion_matrix(y_test_rus, grid_predictions_rus)\n",
        "    print(\"Confusion Matrix:\")\n",
        "    print(confusion_mtx)\n",
        "\n",
        "except NameError as e:\n",
        "    print(f\"NameError: {e}\")\n",
        "    print(\"Make sure that 'y_test_rus' and 'grid_predictions_rus' are defined before running this code.\")\n",
        "except Exception as e:\n",
        "    print(f\"An unexpected error occurred: {e}\")\n"
      ],
      "metadata": {
        "colab": {
          "base_uri": "https://localhost:8080/"
        },
        "id": "oeeWHQg8zHbs",
        "outputId": "cf39024d-a57d-4522-8ffa-995f5b93b95e"
      },
      "execution_count": null,
      "outputs": [
        {
          "output_type": "stream",
          "name": "stdout",
          "text": [
            "Length of y_test_rus: 200\n",
            "Length of grid_predictions_rus: 200\n",
            "Adjusted Length of y_test_rus: 200\n",
            "Adjusted Length of grid_predictions_rus: 200\n",
            "Confusion Matrix:\n",
            "[[87 73]\n",
            " [24 16]]\n"
          ]
        }
      ]
    },
    {
      "cell_type": "code",
      "source": [
        "confusion_matrix(y_test_rus,grid_predictions_rus)"
      ],
      "metadata": {
        "colab": {
          "base_uri": "https://localhost:8080/"
        },
        "id": "-qGYfOTrzUNP",
        "outputId": "fb9022b5-5c5f-404c-926c-2e4f5320c3b7"
      },
      "execution_count": null,
      "outputs": [
        {
          "output_type": "execute_result",
          "data": {
            "text/plain": [
              "array([[87, 73],\n",
              "       [24, 16]])"
            ]
          },
          "metadata": {},
          "execution_count": 116
        }
      ]
    },
    {
      "cell_type": "code",
      "source": [
        "print(classification_report(y_test_rus,grid_predictions_rus))"
      ],
      "metadata": {
        "colab": {
          "base_uri": "https://localhost:8080/"
        },
        "id": "Rf6q7RhazeTb",
        "outputId": "832a431c-47b3-4dc2-c7ab-09da8645d1cf"
      },
      "execution_count": null,
      "outputs": [
        {
          "output_type": "stream",
          "name": "stdout",
          "text": [
            "              precision    recall  f1-score   support\n",
            "\n",
            "           0       0.78      0.54      0.64       160\n",
            "           1       0.18      0.40      0.25        40\n",
            "\n",
            "    accuracy                           0.52       200\n",
            "   macro avg       0.48      0.47      0.45       200\n",
            "weighted avg       0.66      0.52      0.56       200\n",
            "\n"
          ]
        }
      ]
    },
    {
      "cell_type": "markdown",
      "source": [
        "**Let's Compare**"
      ],
      "metadata": {
        "id": "ZsDpGlFh0l-O"
      }
    },
    {
      "cell_type": "code",
      "source": [
        "from sklearn.metrics import classification_report\n",
        "\n",
        "\n",
        "def truncate_to_same_length(arr1, arr2):\n",
        "    min_length = min(len(arr1), len(arr2))\n",
        "    return arr1[:min_length], arr2[:min_length]\n",
        "\n",
        "try:\n",
        "\n",
        "    length_y_test = len(y_test)\n",
        "    length_y_pred = len(y_pred)\n",
        "\n",
        "    print(f\"Length of y_test: {length_y_test}\")\n",
        "    print(f\"Length of y_pred: {length_y_pred}\")\n",
        "\n",
        "    if length_y_test != length_y_pred:\n",
        "        print(\"Lengths do not match. Truncating to match the shorter length.\")\n",
        "        y_test, y_pred = truncate_to_same_length(y_test, y_pred)\n",
        "\n",
        "\n",
        "    length_y_test = len(y_test)\n",
        "    length_y_pred = len(y_pred)\n",
        "    print(f\"Adjusted Length of y_test: {length_y_test}\")\n",
        "    print(f\"Adjusted Length of y_pred: {length_y_pred}\")\n",
        "\n",
        "    report = classification_report(y_test, y_pred)\n",
        "    print(\"Classification Report:\")\n",
        "    print(report)\n",
        "\n",
        "except NameError as e:\n",
        "    print(f\"NameError: {e}\")\n",
        "    print(\"Make sure that 'y_test' and 'y_pred' are defined before running this code.\")\n",
        "except Exception as e:\n",
        "    print(f\"An unexpected error occurred: {e}\")\n"
      ],
      "metadata": {
        "colab": {
          "base_uri": "https://localhost:8080/"
        },
        "id": "Mi6fIPnt0qlb",
        "outputId": "dbd49b5f-ce2a-4769-9bb4-7828717be2fc"
      },
      "execution_count": null,
      "outputs": [
        {
          "output_type": "stream",
          "name": "stdout",
          "text": [
            "Length of y_test: 200\n",
            "Length of y_pred: 200\n",
            "Adjusted Length of y_test: 200\n",
            "Adjusted Length of y_pred: 200\n",
            "Classification Report:\n",
            "              precision    recall  f1-score   support\n",
            "\n",
            "           0       0.48      0.97      0.64        97\n",
            "           1       0.40      0.02      0.04       103\n",
            "\n",
            "    accuracy                           0.48       200\n",
            "   macro avg       0.44      0.49      0.34       200\n",
            "weighted avg       0.44      0.48      0.33       200\n",
            "\n"
          ]
        }
      ]
    },
    {
      "cell_type": "code",
      "source": [
        "from sklearn.metrics import classification_report\n",
        "\n",
        "\n",
        "def truncate_to_same_length(arr1, arr2):\n",
        "    min_length = min(len(arr1), len(arr2))\n",
        "    return arr1[:min_length], arr2[:min_length]\n",
        "\n",
        "try:\n",
        "\n",
        "    length_y_test = len(y_test)\n",
        "    length_grid_predictions = len(grid_predictions)\n",
        "\n",
        "    print(f\"Length of y_test: {length_y_test}\")\n",
        "    print(f\"Length of grid_predictions: {length_grid_predictions}\")\n",
        "\n",
        "    if length_y_test != length_grid_predictions:\n",
        "        print(\"Lengths do not match. Truncating to match the shorter length.\")\n",
        "        y_test, grid_predictions = truncate_to_same_length(y_test, grid_predictions)\n",
        "\n",
        "    length_y_test = len(y_test)\n",
        "    length_grid_predictions = len(grid_predictions)\n",
        "    print(f\"Adjusted Length of y_test: {length_y_test}\")\n",
        "    print(f\"Adjusted Length of grid_predictions: {length_grid_predictions}\")\n",
        "    report = classification_report(y_test, grid_predictions)\n",
        "    print(\"Classification Report:\")\n",
        "    print(report)\n",
        "\n",
        "except NameError as e:\n",
        "    print(f\"NameError: {e}\")\n",
        "    print(\"Make sure that 'y_test' and 'grid_predictions' are defined before running this code.\")\n",
        "except ValueError as e:\n",
        "    print(f\"ValueError: {e}\")\n",
        "    print(\"Ensure that 'y_test' and 'grid_predictions' have consistent lengths.\")\n",
        "except Exception as e:\n",
        "    print(f\"An unexpected error occurred: {e}\")\n"
      ],
      "metadata": {
        "colab": {
          "base_uri": "https://localhost:8080/"
        },
        "id": "-hd5IKOc1Ko6",
        "outputId": "3d1ead17-ee06-42cd-e540-1efd58972797"
      },
      "execution_count": null,
      "outputs": [
        {
          "output_type": "stream",
          "name": "stdout",
          "text": [
            "Length of y_test: 200\n",
            "Length of grid_predictions: 200\n",
            "Adjusted Length of y_test: 200\n",
            "Adjusted Length of grid_predictions: 200\n",
            "Classification Report:\n",
            "              precision    recall  f1-score   support\n",
            "\n",
            "           0       0.48      0.87      0.62        97\n",
            "           1       0.46      0.11      0.17       103\n",
            "\n",
            "    accuracy                           0.48       200\n",
            "   macro avg       0.47      0.49      0.39       200\n",
            "weighted avg       0.47      0.47      0.39       200\n",
            "\n"
          ]
        }
      ]
    },
    {
      "cell_type": "code",
      "source": [
        "print(classification_report(y_test_rus,y_pred_rus))"
      ],
      "metadata": {
        "colab": {
          "base_uri": "https://localhost:8080/"
        },
        "id": "svJYWb1t1nDg",
        "outputId": "19baf437-0301-4936-fef3-28db7f579c3e"
      },
      "execution_count": null,
      "outputs": [
        {
          "output_type": "stream",
          "name": "stdout",
          "text": [
            "              precision    recall  f1-score   support\n",
            "\n",
            "           0       0.85      0.28      0.42       160\n",
            "           1       0.22      0.80      0.34        40\n",
            "\n",
            "    accuracy                           0.38       200\n",
            "   macro avg       0.53      0.54      0.38       200\n",
            "weighted avg       0.72      0.39      0.41       200\n",
            "\n"
          ]
        }
      ]
    },
    {
      "cell_type": "code",
      "source": [
        "print(classification_report(y_test_rus,grid_predictions_rus))"
      ],
      "metadata": {
        "colab": {
          "base_uri": "https://localhost:8080/"
        },
        "id": "m3wny64i1zk3",
        "outputId": "ee704dff-a827-470d-c657-53a2f2ab5a91"
      },
      "execution_count": null,
      "outputs": [
        {
          "output_type": "stream",
          "name": "stdout",
          "text": [
            "              precision    recall  f1-score   support\n",
            "\n",
            "           0       0.78      0.54      0.64       160\n",
            "           1       0.18      0.40      0.25        40\n",
            "\n",
            "    accuracy                           0.52       200\n",
            "   macro avg       0.48      0.47      0.45       200\n",
            "weighted avg       0.66      0.52      0.56       200\n",
            "\n"
          ]
        }
      ]
    },
    {
      "cell_type": "code",
      "source": [
        "print(classification_report(y_test_ros,y_pred_ros))"
      ],
      "metadata": {
        "colab": {
          "base_uri": "https://localhost:8080/"
        },
        "id": "Zy8ylEhX2Bb-",
        "outputId": "30d01c4e-677c-431e-92b7-6077c071bb2d"
      },
      "execution_count": null,
      "outputs": [
        {
          "output_type": "stream",
          "name": "stdout",
          "text": [
            "              precision    recall  f1-score   support\n",
            "\n",
            "           0       0.74      0.77      0.76      2379\n",
            "           1       0.76      0.74      0.75      2399\n",
            "\n",
            "    accuracy                           0.75      4778\n",
            "   macro avg       0.75      0.75      0.75      4778\n",
            "weighted avg       0.75      0.75      0.75      4778\n",
            "\n"
          ]
        }
      ]
    },
    {
      "cell_type": "code",
      "source": [
        "print(classification_report(y_test_ros,grid_predictions_ros))"
      ],
      "metadata": {
        "colab": {
          "base_uri": "https://localhost:8080/"
        },
        "id": "0yjDOHGj2JNF",
        "outputId": "6c875631-42d9-44a7-cd49-6fea42d8078d"
      },
      "execution_count": null,
      "outputs": [
        {
          "output_type": "stream",
          "name": "stdout",
          "text": [
            "              precision    recall  f1-score   support\n",
            "\n",
            "           0       0.97      0.86      0.91      2379\n",
            "           1       0.88      0.97      0.92      2399\n",
            "\n",
            "    accuracy                           0.92      4778\n",
            "   macro avg       0.92      0.92      0.92      4778\n",
            "weighted avg       0.92      0.92      0.92      4778\n",
            "\n"
          ]
        }
      ]
    }
  ]
}